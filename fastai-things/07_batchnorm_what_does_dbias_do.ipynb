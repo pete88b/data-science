{
 "cells": [
  {
   "cell_type": "markdown",
   "metadata": {},
   "source": [
    "### What does de-bias do in Running Batch Norm?\n",
    "\n",
    "It looks like the de-bias logic doesn't change the calculated means or vars. I can't explain it, but I can demononstrate using 07_batchnorm.ipynb as a start point.\n",
    "\n",
    "Turns out Stas knows the answer (https://forums.fast.ai/u/stas/summary)\n",
    "\n",
    "https://forums.fast.ai/t/lesson-10-discussion-wiki-2019/42781/339 - the count and sums are biased in the same way, use them together and the two sets of bias end up canceling out!"
   ]
  },
  {
   "cell_type": "code",
   "execution_count": 1,
   "metadata": {},
   "outputs": [],
   "source": [
    "%load_ext autoreload\n",
    "%autoreload 2\n",
    "\n",
    "%matplotlib inline"
   ]
  },
  {
   "cell_type": "code",
   "execution_count": 2,
   "metadata": {},
   "outputs": [],
   "source": [
    "#export\n",
    "from exp.nb_06 import *"
   ]
  },
  {
   "cell_type": "markdown",
   "metadata": {},
   "source": [
    "## ConvNet"
   ]
  },
  {
   "cell_type": "markdown",
   "metadata": {},
   "source": [
    "Let's get the data and training interface from where we left in the last notebook."
   ]
  },
  {
   "cell_type": "markdown",
   "metadata": {},
   "source": [
    "[Jump_to lesson 10 video](https://course.fast.ai/videos/?lesson=10&t=5899)"
   ]
  },
  {
   "cell_type": "code",
   "execution_count": 3,
   "metadata": {},
   "outputs": [],
   "source": [
    "x_train,y_train,x_valid,y_valid = get_data()\n",
    "\n",
    "x_train,x_valid = normalize_to(x_train,x_valid)\n",
    "train_ds,valid_ds = Dataset(x_train, y_train),Dataset(x_valid, y_valid)\n",
    "\n",
    "nh,bs = 50,512\n",
    "c = y_train.max().item()+1\n",
    "loss_func = F.cross_entropy\n",
    "\n",
    "data = DataBunch(*get_dls(train_ds, valid_ds, bs), c)"
   ]
  },
  {
   "cell_type": "code",
   "execution_count": 4,
   "metadata": {},
   "outputs": [],
   "source": [
    "mnist_view = view_tfm(1,28,28)\n",
    "cbfs = [Recorder,\n",
    "        partial(AvgStatsCallback,accuracy),\n",
    "        CudaCallback,\n",
    "        partial(BatchTransformXCallback, mnist_view)]"
   ]
  },
  {
   "cell_type": "code",
   "execution_count": 5,
   "metadata": {},
   "outputs": [],
   "source": [
    "nfs = [8,16,32,64,64]"
   ]
  },
  {
   "cell_type": "markdown",
   "metadata": {},
   "source": [
    "### Running Batch Norm"
   ]
  },
  {
   "cell_type": "code",
   "execution_count": 6,
   "metadata": {},
   "outputs": [],
   "source": [
    "pre_dbias_means, pre_dbias_vars, post_dbias_means, post_dbias_vars = {}, {}, {}, {}\n",
    "\n",
    "class RunningBatchNorm(nn.Module):\n",
    "    def __init__(self, nf, mom=0.1, eps=1e-5):\n",
    "        super().__init__()\n",
    "        self.mom,self.eps = mom,eps\n",
    "        self.mults = nn.Parameter(torch.ones (nf,1,1))\n",
    "        self.adds = nn.Parameter(torch.zeros(nf,1,1))\n",
    "        self.register_buffer('sums', torch.zeros(1,nf,1,1))\n",
    "        self.register_buffer('sqrs', torch.zeros(1,nf,1,1))\n",
    "        self.register_buffer('batch', tensor(0.))\n",
    "        self.register_buffer('count', tensor(0.))\n",
    "        self.register_buffer('step', tensor(0.))\n",
    "        self.register_buffer('dbias', tensor(0.))\n",
    "\n",
    "    def update_stats(self, x):\n",
    "        bs,nc,*_ = x.shape\n",
    "        self.sums.detach_()\n",
    "        self.sqrs.detach_()\n",
    "        dims = (0,2,3)\n",
    "        s = x.sum(dims, keepdim=True)\n",
    "        ss = (x*x).sum(dims, keepdim=True)\n",
    "        c = self.count.new_tensor(x.numel()/nc)\n",
    "        mom1 = 1 - (1-self.mom)/math.sqrt(bs-1)\n",
    "        self.mom1 = self.dbias.new_tensor(mom1)\n",
    "        self.sums.lerp_(s, self.mom1)\n",
    "        self.sqrs.lerp_(ss, self.mom1)\n",
    "        self.count.lerp_(c, self.mom1)\n",
    "        self.dbias = self.dbias*(1-self.mom1) + self.mom1\n",
    "        self.batch += bs\n",
    "        self.step += 1\n",
    "\n",
    "    def forward(self, x):\n",
    "        global pre_dbias_means, pre_dbias_vars, post_dbias_means, post_dbias_vars\n",
    "        if self.training: self.update_stats(x)\n",
    "        sums = self.sums\n",
    "        sqrs = self.sqrs\n",
    "        c = self.count\n",
    "        # calculate means/vars before dbias and save them\n",
    "        means = sums/c\n",
    "        vars = (sqrs/c).sub_(means*means)\n",
    "        if means.shape not in pre_dbias_means:\n",
    "            pre_dbias_means[means.shape] = []\n",
    "            post_dbias_means[means.shape] = []\n",
    "            pre_dbias_vars[means.shape] = []\n",
    "            post_dbias_vars[means.shape] = []\n",
    "        pre_dbias_means[means.shape].append(means)\n",
    "        pre_dbias_vars[means.shape].append(vars)\n",
    "        # end\n",
    "        if self.step<100:\n",
    "            sums = sums / self.dbias\n",
    "            sqrs = sqrs / self.dbias\n",
    "            c    = c    / self.dbias\n",
    "        means = sums/c\n",
    "        vars = (sqrs/c).sub_(means*means)\n",
    "        # save means/vars after dbias\n",
    "        post_dbias_means[means.shape].append(means)\n",
    "        post_dbias_vars[means.shape].append(vars)\n",
    "        # end\n",
    "        if bool(self.batch < 20): vars.clamp_min_(0.01)\n",
    "        x = (x-means).div_((vars.add_(self.eps)).sqrt())\n",
    "        return x.mul_(self.mults).add_(self.adds)"
   ]
  },
  {
   "cell_type": "code",
   "execution_count": 7,
   "metadata": {},
   "outputs": [],
   "source": [
    "def conv_rbn(ni, nf, ks=3, stride=2, bn=True, **kwargs):\n",
    "    layers = [nn.Conv2d(ni, nf, ks, padding=ks//2, stride=stride, bias=not bn),\n",
    "              GeneralRelu(**kwargs)]\n",
    "    if bn: layers.append(RunningBatchNorm(nf))\n",
    "    return nn.Sequential(*layers)"
   ]
  },
  {
   "cell_type": "markdown",
   "metadata": {},
   "source": [
    "When we init this cnn, `l[0].bias` is NoneType - i.e. no bias on the Conv2d\n",
    "\n",
    "Do we need to update init_cnn in the Generalized ReLU section of 06_cuda_cnn_hooks_init.ipynb?"
   ]
  },
  {
   "cell_type": "code",
   "execution_count": 8,
   "metadata": {},
   "outputs": [],
   "source": [
    "def init_cnn(m, uniform=False):\n",
    "    f = init.kaiming_uniform_ if uniform else init.kaiming_normal_\n",
    "    for l in m:\n",
    "        if isinstance(l, nn.Sequential):\n",
    "            f(l[0].weight, a=0.1)\n",
    "            if hasattr(l[0].bias, 'data'): # l[0].bias has no data\n",
    "                l[0].bias.data.zero_()"
   ]
  },
  {
   "cell_type": "code",
   "execution_count": 9,
   "metadata": {},
   "outputs": [],
   "source": [
    "learn,run = get_learn_run(nfs, data, 0.4, conv_rbn, cbs=cbfs)"
   ]
  },
  {
   "cell_type": "code",
   "execution_count": 10,
   "metadata": {},
   "outputs": [
    {
     "name": "stdout",
     "output_type": "stream",
     "text": [
      "train: [0.29878693359375, tensor(0.9120, device='cuda:0')]\n",
      "valid: [0.11251114501953124, tensor(0.9675, device='cuda:0')]\n",
      "CPU times: user 3.23 s, sys: 535 ms, total: 3.77 s\n",
      "Wall time: 3.47 s\n"
     ]
    }
   ],
   "source": [
    "%time run.fit(1, learn)"
   ]
  },
  {
   "cell_type": "markdown",
   "metadata": {},
   "source": [
    "Now check the pre vs post means and vars"
   ]
  },
  {
   "cell_type": "code",
   "execution_count": 11,
   "metadata": {},
   "outputs": [
    {
     "name": "stdout",
     "output_type": "stream",
     "text": [
      "means torch.Size([1, 8, 1, 1]) True\n",
      "vars torch.Size([1, 8, 1, 1]) True\n",
      "means torch.Size([1, 16, 1, 1]) True\n",
      "vars torch.Size([1, 16, 1, 1]) True\n",
      "means torch.Size([1, 32, 1, 1]) True\n",
      "vars torch.Size([1, 32, 1, 1]) True\n",
      "means torch.Size([1, 64, 1, 1]) True\n",
      "vars torch.Size([1, 64, 1, 1]) True\n"
     ]
    }
   ],
   "source": [
    "def do_check():\n",
    "    for shape in pre_dbias_means:\n",
    "        a = torch.stack(pre_dbias_means[shape])\n",
    "        b = torch.stack(post_dbias_means[shape])\n",
    "        print('means', shape, torch.allclose(a, b))\n",
    "        a = torch.stack(pre_dbias_vars[shape])\n",
    "        b = torch.stack(post_dbias_vars[shape])\n",
    "        print('vars', shape, torch.allclose(a, b, atol=1e-5)) # need to increase absolute tolerance a little\n",
    "do_check()"
   ]
  },
  {
   "cell_type": "markdown",
   "metadata": {},
   "source": [
    "In case it helps, find an example where we are not \"all close\""
   ]
  },
  {
   "cell_type": "code",
   "execution_count": 12,
   "metadata": {},
   "outputs": [
    {
     "name": "stdout",
     "output_type": "stream",
     "text": [
      "found a diffence in vars torch.Size([1, 8, 1, 1]) i 0\n",
      "tensor([0.3031, 0.0430, 0.0756, 4.9190, 0.1070, 0.2733, 0.4318, 5.0159],\n",
      "       device='cuda:0', grad_fn=<ViewBackward>)\n",
      "tensor([0.3032, 0.0430, 0.0756, 4.9190, 0.1070, 0.2733, 0.4319, 5.0159],\n",
      "       device='cuda:0', grad_fn=<ViewBackward>)\n"
     ]
    }
   ],
   "source": [
    "size = torch.Size([1, 8, 1, 1])\n",
    "for i in range(len(pre_dbias_means[size])):\n",
    "    a = pre_dbias_vars[size][i]\n",
    "    b = post_dbias_vars[size][i]\n",
    "    if not torch.allclose(a, b):\n",
    "        print('found a diffence in vars', size, 'i', i)\n",
    "        print(a.view(size[1],))\n",
    "        print(b.view(size[1],))\n",
    "        break"
   ]
  },
  {
   "cell_type": "markdown",
   "metadata": {},
   "source": [
    "### Re-init and check over a full epoch"
   ]
  },
  {
   "cell_type": "code",
   "execution_count": 13,
   "metadata": {},
   "outputs": [],
   "source": [
    "pre_dbias_means, pre_dbias_vars, post_dbias_means, post_dbias_vars = {}, {}, {}, {}"
   ]
  },
  {
   "cell_type": "code",
   "execution_count": 14,
   "metadata": {},
   "outputs": [],
   "source": [
    "data = DataBunch(*get_dls(train_ds, valid_ds, 32), c)"
   ]
  },
  {
   "cell_type": "code",
   "execution_count": 15,
   "metadata": {},
   "outputs": [],
   "source": [
    "learn,run = get_learn_run(nfs, data, 0.9, conv_rbn, cbs=cbfs\n",
    "                          +[partial(ParamScheduler,'lr', sched_lin(1., 0.2))])"
   ]
  },
  {
   "cell_type": "code",
   "execution_count": 16,
   "metadata": {},
   "outputs": [
    {
     "name": "stdout",
     "output_type": "stream",
     "text": [
      "train: [0.15330603515625, tensor(0.9519, device='cuda:0')]\n",
      "valid: [0.3575843994140625, tensor(0.9660, device='cuda:0')]\n",
      "CPU times: user 9.77 s, sys: 38.3 ms, total: 9.81 s\n",
      "Wall time: 9.59 s\n"
     ]
    }
   ],
   "source": [
    "%time run.fit(1, learn)"
   ]
  },
  {
   "cell_type": "code",
   "execution_count": 17,
   "metadata": {},
   "outputs": [
    {
     "name": "stdout",
     "output_type": "stream",
     "text": [
      "means torch.Size([1, 8, 1, 1]) True\n",
      "vars torch.Size([1, 8, 1, 1]) True\n",
      "means torch.Size([1, 16, 1, 1]) True\n",
      "vars torch.Size([1, 16, 1, 1]) True\n",
      "means torch.Size([1, 32, 1, 1]) True\n",
      "vars torch.Size([1, 32, 1, 1]) True\n",
      "means torch.Size([1, 64, 1, 1]) True\n",
      "vars torch.Size([1, 64, 1, 1]) True\n"
     ]
    }
   ],
   "source": [
    "do_check()"
   ]
  }
 ],
 "metadata": {
  "kernelspec": {
   "display_name": "Python 3",
   "language": "python",
   "name": "python3"
  },
  "language_info": {
   "codemirror_mode": {
    "name": "ipython",
    "version": 3
   },
   "file_extension": ".py",
   "mimetype": "text/x-python",
   "name": "python",
   "nbconvert_exporter": "python",
   "pygments_lexer": "ipython3",
   "version": "3.7.5"
  }
 },
 "nbformat": 4,
 "nbformat_minor": 2
}
