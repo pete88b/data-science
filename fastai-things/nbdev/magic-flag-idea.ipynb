{
 "cells": [
  {
   "cell_type": "markdown",
   "metadata": {},
   "source": [
    "# Can we have tab completion and help for nbdev flags?\n",
    "\n",
    "As an nbdev user, it would be great to be able to tab complete flags and be able to access help without leaving the notebook.\n",
    "\n",
    "Here's the idea; **use magics instead of comments for flags**. That's pretty much it (o: we could change comments for flags by;\n",
    "- creating magics for all flags\n",
    "- update flag parsing regex to match \"%\" rather than \"#\"\n",
    "- update youtube tutorials and other training material - this could be a lot of work )o:\n",
    "\n",
    "Here's a few other ideas;\n",
    "- we could prefix everything with `nbdev_`\n",
    "    - partly to give all of these things their own \"namespace\"\n",
    "    - but mostly, it would help us find things - i.e. type `nbdev`, hit TAB and everything is listed\n",
    "        - especially for things that are used less often, like `exports`\n",
    "- we could write a script to repalce \"comment flags\" with \"magic flags\" in existing notebooks to make migration easy\n",
    "- seeing as we don't have to type the full flag any more, we could use more explanatory names like;\n",
    "    - `exports` -> `export_and_show`\n",
    "    - `exporti` -> `export_internal`\n",
    "- we could print useful info when flags are used\n",
    "    - see `default_exp` for an example that tells the user; \"if you're using this, you might like to know ...\"\n",
    "    - and give the user validation feedback"
   ]
  },
  {
   "cell_type": "code",
   "execution_count": 1,
   "metadata": {},
   "outputs": [],
   "source": [
    "from IPython.core.magic import register_line_magic\n",
    "\n",
    "@register_line_magic\n",
    "def default_exp(line):\n",
    "    \"\"\"one cell should contain a `%default_exp` magic followed by the name of the module \n",
    "    (with points for submodules and without the py extension) everything should be exported in.\n",
    "    If one specific cell needs to be exported in a different module, just indicate it after the `%export` magic: `%export special.module`\"\"\"\n",
    "    if line == '':\n",
    "        print('Warning: Module name is missing. Usage `%default_exp [modulename]`')\n",
    "        return\n",
    "    print(f'Cells will be exported to [lib_name].{line}, ') # TODO: lookup lib_name from settings.ini\n",
    "    print('unless a different module is specified after after the `%export` magic: `%export special.module`')\n",
    "    \n",
    "@register_line_magic\n",
    "def export(line):\n",
    "    \"\"\"Put an `%export` magic on each cell you want exported but not shown in the docs.\n",
    "    Optionally override `%default_exp` by specifying a module: `%export special.module`\"\"\"\n",
    "    \n",
    "@register_line_magic\n",
    "def exports(line):\n",
    "    \"\"\"put an `%exports` magic (for export and show) on each cell you want exported with source code shown in the docs.\n",
    "    Optionally override `%default_exp` by specifying a module: `%exports special.module`\"\"\"\n",
    "    \n",
    "@register_line_magic\n",
    "def exporti(line):\n",
    "    \"\"\"put an `%exporti` magic (for export internal) on each cell you want exported without it being added to `__all__`, and without it showing up in the docs.\n",
    "    Optionally override `%default_exp` by specifying a module: `%exporti special.module`\"\"\"\n",
    "\n",
    "# delete the functions so that only the magics are availble\n",
    "del default_exp, export, exporti, exports"
   ]
  },
  {
   "cell_type": "markdown",
   "metadata": {},
   "source": [
    "demo validation feedback when flag is used incorrectly"
   ]
  },
  {
   "cell_type": "code",
   "execution_count": 2,
   "metadata": {},
   "outputs": [
    {
     "name": "stdout",
     "output_type": "stream",
     "text": [
      "Warning: Module name is missing. Usage `%default_exp [modulename]`\n"
     ]
    }
   ],
   "source": [
    "%default_exp"
   ]
  },
  {
   "cell_type": "markdown",
   "metadata": {},
   "source": [
    "demo extra info feedback"
   ]
  },
  {
   "cell_type": "code",
   "execution_count": 3,
   "metadata": {},
   "outputs": [
    {
     "name": "stdout",
     "output_type": "stream",
     "text": [
      "Cells will be exported to [lib_name].core, \n",
      "unless a different module is specified after after the `%export` magic: `%export special.module`\n"
     ]
    }
   ],
   "source": [
    "%default_exp core"
   ]
  },
  {
   "cell_type": "markdown",
   "metadata": {},
   "source": [
    "show what a regular export cell looks like"
   ]
  },
  {
   "cell_type": "code",
   "execution_count": 4,
   "metadata": {},
   "outputs": [],
   "source": [
    "%export\n",
    "def a(b): return b"
   ]
  },
  {
   "cell_type": "markdown",
   "metadata": {},
   "source": [
    "tab complete and interactive help are most interesting (o: you'll have to play around to see how that looks"
   ]
  }
 ],
 "metadata": {
  "kernelspec": {
   "display_name": "Python 3",
   "language": "python",
   "name": "python3"
  },
  "language_info": {
   "codemirror_mode": {
    "name": "ipython",
    "version": 3
   },
   "file_extension": ".py",
   "mimetype": "text/x-python",
   "name": "python",
   "nbconvert_exporter": "python",
   "pygments_lexer": "ipython3",
   "version": "3.7.6"
  },
  "toc": {
   "base_numbering": 1,
   "nav_menu": {},
   "number_sections": true,
   "sideBar": true,
   "skip_h1_title": false,
   "title_cell": "Table of Contents",
   "title_sidebar": "Contents",
   "toc_cell": false,
   "toc_position": {},
   "toc_section_display": true,
   "toc_window_display": false
  }
 },
 "nbformat": 4,
 "nbformat_minor": 4
}
