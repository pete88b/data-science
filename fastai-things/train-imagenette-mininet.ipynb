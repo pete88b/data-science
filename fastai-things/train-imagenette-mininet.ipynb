{
 "cells": [
  {
   "cell_type": "markdown",
   "metadata": {},
   "source": [
    "# Can we improve model accuracy by using a smaller model?\n",
    "\n",
    "Using fastai `XResNet` we built a model smaller than `ResNeXt 18 deep` that improved accuracy by ~0.5% after 5 epochs of Imagenette training.\n",
    "\n",
    "| model              | seconds per epoch | accuracy |\n",
    "| -------------------|-------------------|----------|\n",
    "| xse_resnext50      | 62                | 84.8%    |\n",
    "| xse_resnext18_deep | 20                | 84.8%    |\n",
    "| mini net           | 17                | 85.3%    |\n",
    "\n",
    "Note: this notebook is based on fastai2/nbs/examples/train_imagenette.py"
   ]
  },
  {
   "cell_type": "code",
   "execution_count": 1,
   "metadata": {},
   "outputs": [],
   "source": [
    "import PIL # hack to re-instate PILLOW_VERSION (thanks pillow 7 :o)\n",
    "PIL.PILLOW_VERSION = PIL.__version__\n",
    "\n",
    "from fastai2.basics import *\n",
    "from fastai2.vision.all import *\n",
    "from fastai2.callback.all import *\n",
    "from fastai2.distributed import *\n",
    "from fastprogress import fastprogress\n",
    "from torchvision.models import *\n",
    "from fastai2.vision.models.xresnet import *\n",
    "from fastai2.callback.mixup import *\n",
    "from fastscript import *\n",
    "\n",
    "torch.backends.cudnn.benchmark = True\n",
    "fastprogress.MAX_COLS = 80"
   ]
  },
  {
   "cell_type": "code",
   "execution_count": 2,
   "metadata": {},
   "outputs": [],
   "source": [
    "def get_dls(size, woof, bs, sh=0., workers=None):\n",
    "    if size<=224: path = URLs.IMAGEWOOF_320 if woof else URLs.IMAGENETTE_320\n",
    "    else        : path = URLs.IMAGEWOOF     if woof else URLs.IMAGENETTE\n",
    "    source = untar_data(path)\n",
    "    if workers is None: workers = min(8, num_cpus())\n",
    "    # Resize seems to give slightly better accuracy than RandomResizedCrop\n",
    "    resize_ftm = Resize(size) # RandomResizedCrop(size, min_scale=0.35)\n",
    "    dblock = DataBlock(blocks=(ImageBlock, CategoryBlock),\n",
    "                       splitter=GrandparentSplitter(valid_name='val'),\n",
    "                       get_items=get_image_files, get_y=parent_label,\n",
    "                       item_tfms=[resize_ftm, FlipItem(0.5)],\n",
    "                       batch_tfms=RandomErasing(p=0.3, max_count=3, sh=sh) if sh else None)\n",
    "    return dblock.dataloaders(source, path=source, bs=bs, num_workers=workers)"
   ]
  },
  {
   "cell_type": "code",
   "execution_count": 3,
   "metadata": {},
   "outputs": [],
   "source": [
    "@call_parse\n",
    "def main(\n",
    "    gpu:   Param(\"GPU to run on\", int)=None,\n",
    "    woof:  Param(\"Use imagewoof (otherwise imagenette)\", int)=0,\n",
    "    lr:    Param(\"Learning rate\", float)=1e-2,\n",
    "    size:  Param(\"Size (px: 128,192,256)\", int)=128,\n",
    "    sqrmom:Param(\"sqr_mom\", float)=0.99,\n",
    "    mom:   Param(\"Momentum\", float)=0.9,\n",
    "    eps:   Param(\"epsilon\", float)=1e-6,\n",
    "    epochs:Param(\"Number of epochs\", int)=5,\n",
    "    bs:    Param(\"Batch size\", int)=64,\n",
    "    mixup: Param(\"Mixup\", float)=0.,\n",
    "    opt:   Param(\"Optimizer (adam,rms,sgd,ranger)\", str)='ranger',\n",
    "    arch:  Param(\"Architecture\", str)='xresnet50',\n",
    "    sh:    Param(\"Random erase max proportion\", float)=0.,\n",
    "    sa:    Param(\"Self-attention\", int)=0,\n",
    "    sym:   Param(\"Symmetry for self-attention\", int)=0,\n",
    "    beta:  Param(\"SAdam softplus beta\", float)=0.,\n",
    "    act_fn:Param(\"Activation function\", str)='MishJit',\n",
    "    fp16:  Param(\"Use mixed precision training\", int)=0,\n",
    "    pool:  Param(\"Pooling method\", str)='AvgPool',\n",
    "    dump:  Param(\"Print model; don't train\", int)=0,\n",
    "    runs:  Param(\"Number of times to repeat training\", int)=1,\n",
    "    meta:  Param(\"Metadata (ignored)\", str)='',\n",
    "    wd:    Param(\"Weight decay\", float)=1e-2\n",
    "):\n",
    "    \"Training of Imagenette.\"\n",
    "\n",
    "    #gpu = setup_distrib(gpu)\n",
    "    if gpu is not None: torch.cuda.set_device(gpu)\n",
    "    if   opt=='adam'  : opt_func = partial(Adam, mom=mom, sqr_mom=sqrmom, eps=eps)\n",
    "    elif opt=='rms'   : opt_func = partial(RMSprop, sqr_mom=sqrmom)\n",
    "    elif opt=='sgd'   : opt_func = partial(SGD, mom=mom)\n",
    "    elif opt=='ranger': opt_func = partial(ranger, mom=mom, sqr_mom=sqrmom, eps=eps, beta=beta)\n",
    "\n",
    "    dls = get_dls(size, woof, bs, sh=sh)\n",
    "    if not gpu: \n",
    "        print(f'epochs: {epochs}; lr: {lr}; size: {size}; sqrmom: {sqrmom}; mom: {mom}; eps: {eps}')\n",
    "        print(f'fp16: {fp16}; arch: {arch}; wd: {wd}; act_fn: {act_fn}; bs: {bs}')\n",
    "        print(f'pool: {pool}; woof: {woof}; sh:{sh}')\n",
    "        \n",
    "    m,act_fn,pool = [globals()[o] for o in (arch,act_fn,pool)]\n",
    "\n",
    "    for run in range(runs):\n",
    "        print(f'Run: {run}')\n",
    "        learn = Learner(dls, m(c_out=10, act_cls=act_fn, sa=sa, sym=sym, pool=pool), opt_func=opt_func, \\\n",
    "                metrics=[accuracy,top_k_accuracy], loss_func=LabelSmoothingCrossEntropy())\n",
    "        if dump: print(learn.model); exit()\n",
    "        if fp16: learn = learn.to_fp16()\n",
    "        cbs = MixUp(mixup) if mixup else []\n",
    "        #n_gpu = torch.cuda.device_count()\n",
    "        #if gpu is None and n_gpu: learn.to_parallel()\n",
    "        if num_distrib()>1: learn.to_distributed(gpu) # Requires `-m fastai.launch`\n",
    "        learn.fit_flat_cos(epochs, lr, wd=wd, cbs=cbs)"
   ]
  },
  {
   "cell_type": "markdown",
   "metadata": {},
   "source": [
    "## Try a small \"out of the box\" model to see what we have to beat\n",
    "\n",
    "`ResNeXt 18 deep` seems to be pretty good to start with. Reducing weight decay improves accuracy a little."
   ]
  },
  {
   "cell_type": "code",
   "execution_count": 4,
   "metadata": {},
   "outputs": [
    {
     "name": "stdout",
     "output_type": "stream",
     "text": [
      "epochs: 5; lr: 0.01; size: 128; sqrmom: 0.99; mom: 0.9; eps: 1e-06\n",
      "fp16: 0; arch: xse_resnext18_deep; wd: 0.0001; act_fn: MishJit; bs: 64\n",
      "pool: AvgPool; woof: 0; sh:0.0\n",
      "Run: 0\n"
     ]
    },
    {
     "data": {
      "text/html": [
       "<table border=\"1\" class=\"dataframe\">\n",
       "  <thead>\n",
       "    <tr style=\"text-align: left;\">\n",
       "      <th>epoch</th>\n",
       "      <th>train_loss</th>\n",
       "      <th>valid_loss</th>\n",
       "      <th>accuracy</th>\n",
       "      <th>top_k_accuracy</th>\n",
       "      <th>time</th>\n",
       "    </tr>\n",
       "  </thead>\n",
       "  <tbody>\n",
       "    <tr>\n",
       "      <td>0</td>\n",
       "      <td>1.476539</td>\n",
       "      <td>1.757093</td>\n",
       "      <td>0.504713</td>\n",
       "      <td>0.912611</td>\n",
       "      <td>00:22</td>\n",
       "    </tr>\n",
       "    <tr>\n",
       "      <td>1</td>\n",
       "      <td>1.236627</td>\n",
       "      <td>1.185492</td>\n",
       "      <td>0.720255</td>\n",
       "      <td>0.966879</td>\n",
       "      <td>00:20</td>\n",
       "    </tr>\n",
       "    <tr>\n",
       "      <td>2</td>\n",
       "      <td>1.112664</td>\n",
       "      <td>1.212075</td>\n",
       "      <td>0.711083</td>\n",
       "      <td>0.953631</td>\n",
       "      <td>00:20</td>\n",
       "    </tr>\n",
       "    <tr>\n",
       "      <td>3</td>\n",
       "      <td>1.019457</td>\n",
       "      <td>0.999184</td>\n",
       "      <td>0.800255</td>\n",
       "      <td>0.977070</td>\n",
       "      <td>00:20</td>\n",
       "    </tr>\n",
       "    <tr>\n",
       "      <td>4</td>\n",
       "      <td>0.851736</td>\n",
       "      <td>0.890027</td>\n",
       "      <td>0.847898</td>\n",
       "      <td>0.983440</td>\n",
       "      <td>00:21</td>\n",
       "    </tr>\n",
       "  </tbody>\n",
       "</table>"
      ],
      "text/plain": [
       "<IPython.core.display.HTML object>"
      ]
     },
     "metadata": {},
     "output_type": "display_data"
    }
   ],
   "source": [
    "lr=1e-2\n",
    "arch='xse_resnext18_deep'\n",
    "wd=1e-4\n",
    "main(lr=lr, arch=arch, wd=wd)"
   ]
  },
  {
   "cell_type": "markdown",
   "metadata": {},
   "source": [
    "## Try a smaller model\n",
    "\n",
    "Reducing layers from `[2,2,2,2,1,1]` to `[1,1,1,1]` improved accuracy and made training faster ... but I had to fiddle with `groups` and `reduction` to get consitently better results."
   ]
  },
  {
   "cell_type": "code",
   "execution_count": 13,
   "metadata": {},
   "outputs": [],
   "source": [
    "def mini_net(c_out=1000, pretrained=False, **kwargs):\n",
    "    block=SEResNeXtBlock\n",
    "    expansion=1\n",
    "    layers=[1,1,1,1] # [2,2,2,2,1,1] xse_resnext18_deep\n",
    "    groups=64        # 32 \n",
    "    reduction=8      # 16\n",
    "    print(f'block={block} expansion={expansion} layers={layers} groups={groups} reduction={reduction}')\n",
    "    return XResNet(block, expansion, layers, c_out=c_out, groups=groups, reduction=reduction, **kwargs)\n",
    "\n",
    "globals()['mini_net'] = mini_net"
   ]
  },
  {
   "cell_type": "markdown",
   "metadata": {},
   "source": [
    "With layers=[1, 1, 1, 1], groups=32 and reduction=16 we see nearly 0.86 accuracy most of the time - but it sometimes drops to ~0.84.\n",
    "\n",
    "I think the changes to `groups` and `reduction` improved the consistency of `mini net` - but may have reduced peak accuracy a tiny bit.\n",
    "\n",
    "Note: I tried a few changes to `groups` and `reduction` with `xse_resnext18_deep` but anything other than 32/16 made it worse."
   ]
  },
  {
   "cell_type": "code",
   "execution_count": 14,
   "metadata": {},
   "outputs": [
    {
     "name": "stdout",
     "output_type": "stream",
     "text": [
      "epochs: 5; lr: 0.01; size: 128; sqrmom: 0.99; mom: 0.9; eps: 1e-06\n",
      "fp16: 0; arch: mini_net; wd: 0.0001; act_fn: MishJit; bs: 64\n",
      "pool: AvgPool; woof: 0; sh:0.0\n",
      "Run: 0\n",
      "block=<function SEResNeXtBlock at 0x7f9e61ab5cb0> expansion=1 layers=[1, 1, 1, 1] groups=64 reduction=8\n"
     ]
    },
    {
     "data": {
      "text/html": [
       "<table border=\"1\" class=\"dataframe\">\n",
       "  <thead>\n",
       "    <tr style=\"text-align: left;\">\n",
       "      <th>epoch</th>\n",
       "      <th>train_loss</th>\n",
       "      <th>valid_loss</th>\n",
       "      <th>accuracy</th>\n",
       "      <th>top_k_accuracy</th>\n",
       "      <th>time</th>\n",
       "    </tr>\n",
       "  </thead>\n",
       "  <tbody>\n",
       "    <tr>\n",
       "      <td>0</td>\n",
       "      <td>1.573084</td>\n",
       "      <td>1.666911</td>\n",
       "      <td>0.539108</td>\n",
       "      <td>0.907261</td>\n",
       "      <td>00:17</td>\n",
       "    </tr>\n",
       "    <tr>\n",
       "      <td>1</td>\n",
       "      <td>1.266548</td>\n",
       "      <td>1.149882</td>\n",
       "      <td>0.742675</td>\n",
       "      <td>0.969936</td>\n",
       "      <td>00:17</td>\n",
       "    </tr>\n",
       "    <tr>\n",
       "      <td>2</td>\n",
       "      <td>1.118694</td>\n",
       "      <td>1.258321</td>\n",
       "      <td>0.696306</td>\n",
       "      <td>0.954904</td>\n",
       "      <td>00:17</td>\n",
       "    </tr>\n",
       "    <tr>\n",
       "      <td>3</td>\n",
       "      <td>1.004780</td>\n",
       "      <td>1.002810</td>\n",
       "      <td>0.809172</td>\n",
       "      <td>0.980892</td>\n",
       "      <td>00:17</td>\n",
       "    </tr>\n",
       "    <tr>\n",
       "      <td>4</td>\n",
       "      <td>0.852620</td>\n",
       "      <td>0.898029</td>\n",
       "      <td>0.852994</td>\n",
       "      <td>0.987261</td>\n",
       "      <td>00:17</td>\n",
       "    </tr>\n",
       "  </tbody>\n",
       "</table>"
      ],
      "text/plain": [
       "<IPython.core.display.HTML object>"
      ]
     },
     "metadata": {},
     "output_type": "display_data"
    }
   ],
   "source": [
    "arch='mini_net'\n",
    "main(runs=1, lr=lr, arch=arch, wd=wd)"
   ]
  },
  {
   "cell_type": "markdown",
   "metadata": {},
   "source": [
    "let's try this config over 5 runs ..."
   ]
  },
  {
   "cell_type": "code",
   "execution_count": 15,
   "metadata": {},
   "outputs": [
    {
     "name": "stdout",
     "output_type": "stream",
     "text": [
      "epochs: 5; lr: 0.01; size: 128; sqrmom: 0.99; mom: 0.9; eps: 1e-06\n",
      "fp16: 0; arch: mini_net; wd: 0.0001; act_fn: MishJit; bs: 64\n",
      "pool: AvgPool; woof: 0; sh:0.0\n",
      "Run: 0\n",
      "block=<function SEResNeXtBlock at 0x7f9e61ab5cb0> expansion=1 layers=[1, 1, 1, 1] groups=64 reduction=8\n"
     ]
    },
    {
     "data": {
      "text/html": [
       "<table border=\"1\" class=\"dataframe\">\n",
       "  <thead>\n",
       "    <tr style=\"text-align: left;\">\n",
       "      <th>epoch</th>\n",
       "      <th>train_loss</th>\n",
       "      <th>valid_loss</th>\n",
       "      <th>accuracy</th>\n",
       "      <th>top_k_accuracy</th>\n",
       "      <th>time</th>\n",
       "    </tr>\n",
       "  </thead>\n",
       "  <tbody>\n",
       "    <tr>\n",
       "      <td>0</td>\n",
       "      <td>1.574513</td>\n",
       "      <td>2.064940</td>\n",
       "      <td>0.441783</td>\n",
       "      <td>0.897580</td>\n",
       "      <td>00:17</td>\n",
       "    </tr>\n",
       "    <tr>\n",
       "      <td>1</td>\n",
       "      <td>1.279880</td>\n",
       "      <td>1.160462</td>\n",
       "      <td>0.732484</td>\n",
       "      <td>0.971720</td>\n",
       "      <td>00:17</td>\n",
       "    </tr>\n",
       "    <tr>\n",
       "      <td>2</td>\n",
       "      <td>1.091039</td>\n",
       "      <td>1.353692</td>\n",
       "      <td>0.667006</td>\n",
       "      <td>0.950318</td>\n",
       "      <td>00:17</td>\n",
       "    </tr>\n",
       "    <tr>\n",
       "      <td>3</td>\n",
       "      <td>0.995791</td>\n",
       "      <td>1.009981</td>\n",
       "      <td>0.807898</td>\n",
       "      <td>0.978854</td>\n",
       "      <td>00:17</td>\n",
       "    </tr>\n",
       "    <tr>\n",
       "      <td>4</td>\n",
       "      <td>0.858089</td>\n",
       "      <td>0.890406</td>\n",
       "      <td>0.857325</td>\n",
       "      <td>0.987261</td>\n",
       "      <td>00:17</td>\n",
       "    </tr>\n",
       "  </tbody>\n",
       "</table>"
      ],
      "text/plain": [
       "<IPython.core.display.HTML object>"
      ]
     },
     "metadata": {},
     "output_type": "display_data"
    },
    {
     "name": "stdout",
     "output_type": "stream",
     "text": [
      "Run: 1\n",
      "block=<function SEResNeXtBlock at 0x7f9e61ab5cb0> expansion=1 layers=[1, 1, 1, 1] groups=64 reduction=8\n"
     ]
    },
    {
     "data": {
      "text/html": [
       "<table border=\"1\" class=\"dataframe\">\n",
       "  <thead>\n",
       "    <tr style=\"text-align: left;\">\n",
       "      <th>epoch</th>\n",
       "      <th>train_loss</th>\n",
       "      <th>valid_loss</th>\n",
       "      <th>accuracy</th>\n",
       "      <th>top_k_accuracy</th>\n",
       "      <th>time</th>\n",
       "    </tr>\n",
       "  </thead>\n",
       "  <tbody>\n",
       "    <tr>\n",
       "      <td>0</td>\n",
       "      <td>1.553005</td>\n",
       "      <td>1.747727</td>\n",
       "      <td>0.526879</td>\n",
       "      <td>0.908026</td>\n",
       "      <td>00:17</td>\n",
       "    </tr>\n",
       "    <tr>\n",
       "      <td>1</td>\n",
       "      <td>1.277722</td>\n",
       "      <td>1.154143</td>\n",
       "      <td>0.735032</td>\n",
       "      <td>0.968153</td>\n",
       "      <td>00:17</td>\n",
       "    </tr>\n",
       "    <tr>\n",
       "      <td>2</td>\n",
       "      <td>1.115307</td>\n",
       "      <td>1.401358</td>\n",
       "      <td>0.663185</td>\n",
       "      <td>0.948025</td>\n",
       "      <td>00:17</td>\n",
       "    </tr>\n",
       "    <tr>\n",
       "      <td>3</td>\n",
       "      <td>1.015072</td>\n",
       "      <td>0.980753</td>\n",
       "      <td>0.815796</td>\n",
       "      <td>0.981911</td>\n",
       "      <td>00:17</td>\n",
       "    </tr>\n",
       "    <tr>\n",
       "      <td>4</td>\n",
       "      <td>0.851516</td>\n",
       "      <td>0.896918</td>\n",
       "      <td>0.849427</td>\n",
       "      <td>0.986497</td>\n",
       "      <td>00:18</td>\n",
       "    </tr>\n",
       "  </tbody>\n",
       "</table>"
      ],
      "text/plain": [
       "<IPython.core.display.HTML object>"
      ]
     },
     "metadata": {},
     "output_type": "display_data"
    },
    {
     "name": "stdout",
     "output_type": "stream",
     "text": [
      "Run: 2\n",
      "block=<function SEResNeXtBlock at 0x7f9e61ab5cb0> expansion=1 layers=[1, 1, 1, 1] groups=64 reduction=8\n"
     ]
    },
    {
     "data": {
      "text/html": [
       "<table border=\"1\" class=\"dataframe\">\n",
       "  <thead>\n",
       "    <tr style=\"text-align: left;\">\n",
       "      <th>epoch</th>\n",
       "      <th>train_loss</th>\n",
       "      <th>valid_loss</th>\n",
       "      <th>accuracy</th>\n",
       "      <th>top_k_accuracy</th>\n",
       "      <th>time</th>\n",
       "    </tr>\n",
       "  </thead>\n",
       "  <tbody>\n",
       "    <tr>\n",
       "      <td>0</td>\n",
       "      <td>1.552149</td>\n",
       "      <td>1.736750</td>\n",
       "      <td>0.489936</td>\n",
       "      <td>0.911847</td>\n",
       "      <td>00:18</td>\n",
       "    </tr>\n",
       "    <tr>\n",
       "      <td>1</td>\n",
       "      <td>1.281032</td>\n",
       "      <td>1.164669</td>\n",
       "      <td>0.730701</td>\n",
       "      <td>0.967389</td>\n",
       "      <td>00:18</td>\n",
       "    </tr>\n",
       "    <tr>\n",
       "      <td>2</td>\n",
       "      <td>1.112261</td>\n",
       "      <td>1.320213</td>\n",
       "      <td>0.655032</td>\n",
       "      <td>0.951338</td>\n",
       "      <td>00:18</td>\n",
       "    </tr>\n",
       "    <tr>\n",
       "      <td>3</td>\n",
       "      <td>1.022199</td>\n",
       "      <td>0.990990</td>\n",
       "      <td>0.812484</td>\n",
       "      <td>0.979618</td>\n",
       "      <td>00:17</td>\n",
       "    </tr>\n",
       "    <tr>\n",
       "      <td>4</td>\n",
       "      <td>0.868079</td>\n",
       "      <td>0.900094</td>\n",
       "      <td>0.851210</td>\n",
       "      <td>0.986242</td>\n",
       "      <td>00:18</td>\n",
       "    </tr>\n",
       "  </tbody>\n",
       "</table>"
      ],
      "text/plain": [
       "<IPython.core.display.HTML object>"
      ]
     },
     "metadata": {},
     "output_type": "display_data"
    },
    {
     "name": "stdout",
     "output_type": "stream",
     "text": [
      "Run: 3\n",
      "block=<function SEResNeXtBlock at 0x7f9e61ab5cb0> expansion=1 layers=[1, 1, 1, 1] groups=64 reduction=8\n"
     ]
    },
    {
     "data": {
      "text/html": [
       "<table border=\"1\" class=\"dataframe\">\n",
       "  <thead>\n",
       "    <tr style=\"text-align: left;\">\n",
       "      <th>epoch</th>\n",
       "      <th>train_loss</th>\n",
       "      <th>valid_loss</th>\n",
       "      <th>accuracy</th>\n",
       "      <th>top_k_accuracy</th>\n",
       "      <th>time</th>\n",
       "    </tr>\n",
       "  </thead>\n",
       "  <tbody>\n",
       "    <tr>\n",
       "      <td>0</td>\n",
       "      <td>1.554691</td>\n",
       "      <td>2.110049</td>\n",
       "      <td>0.398981</td>\n",
       "      <td>0.926115</td>\n",
       "      <td>00:17</td>\n",
       "    </tr>\n",
       "    <tr>\n",
       "      <td>1</td>\n",
       "      <td>1.279650</td>\n",
       "      <td>1.185858</td>\n",
       "      <td>0.715924</td>\n",
       "      <td>0.966879</td>\n",
       "      <td>00:17</td>\n",
       "    </tr>\n",
       "    <tr>\n",
       "      <td>2</td>\n",
       "      <td>1.093604</td>\n",
       "      <td>1.186145</td>\n",
       "      <td>0.724841</td>\n",
       "      <td>0.964841</td>\n",
       "      <td>00:17</td>\n",
       "    </tr>\n",
       "    <tr>\n",
       "      <td>3</td>\n",
       "      <td>1.002387</td>\n",
       "      <td>0.987181</td>\n",
       "      <td>0.814777</td>\n",
       "      <td>0.979108</td>\n",
       "      <td>00:17</td>\n",
       "    </tr>\n",
       "    <tr>\n",
       "      <td>4</td>\n",
       "      <td>0.852337</td>\n",
       "      <td>0.896359</td>\n",
       "      <td>0.853758</td>\n",
       "      <td>0.985732</td>\n",
       "      <td>00:17</td>\n",
       "    </tr>\n",
       "  </tbody>\n",
       "</table>"
      ],
      "text/plain": [
       "<IPython.core.display.HTML object>"
      ]
     },
     "metadata": {},
     "output_type": "display_data"
    },
    {
     "name": "stdout",
     "output_type": "stream",
     "text": [
      "Run: 4\n",
      "block=<function SEResNeXtBlock at 0x7f9e61ab5cb0> expansion=1 layers=[1, 1, 1, 1] groups=64 reduction=8\n"
     ]
    },
    {
     "data": {
      "text/html": [
       "<table border=\"1\" class=\"dataframe\">\n",
       "  <thead>\n",
       "    <tr style=\"text-align: left;\">\n",
       "      <th>epoch</th>\n",
       "      <th>train_loss</th>\n",
       "      <th>valid_loss</th>\n",
       "      <th>accuracy</th>\n",
       "      <th>top_k_accuracy</th>\n",
       "      <th>time</th>\n",
       "    </tr>\n",
       "  </thead>\n",
       "  <tbody>\n",
       "    <tr>\n",
       "      <td>0</td>\n",
       "      <td>1.597253</td>\n",
       "      <td>1.699681</td>\n",
       "      <td>0.517452</td>\n",
       "      <td>0.896306</td>\n",
       "      <td>00:17</td>\n",
       "    </tr>\n",
       "    <tr>\n",
       "      <td>1</td>\n",
       "      <td>1.271300</td>\n",
       "      <td>1.190564</td>\n",
       "      <td>0.730701</td>\n",
       "      <td>0.969682</td>\n",
       "      <td>00:17</td>\n",
       "    </tr>\n",
       "    <tr>\n",
       "      <td>2</td>\n",
       "      <td>1.115927</td>\n",
       "      <td>1.215999</td>\n",
       "      <td>0.714395</td>\n",
       "      <td>0.965605</td>\n",
       "      <td>00:18</td>\n",
       "    </tr>\n",
       "    <tr>\n",
       "      <td>3</td>\n",
       "      <td>1.012310</td>\n",
       "      <td>1.006783</td>\n",
       "      <td>0.807898</td>\n",
       "      <td>0.978854</td>\n",
       "      <td>00:18</td>\n",
       "    </tr>\n",
       "    <tr>\n",
       "      <td>4</td>\n",
       "      <td>0.856653</td>\n",
       "      <td>0.901137</td>\n",
       "      <td>0.851720</td>\n",
       "      <td>0.985987</td>\n",
       "      <td>00:18</td>\n",
       "    </tr>\n",
       "  </tbody>\n",
       "</table>"
      ],
      "text/plain": [
       "<IPython.core.display.HTML object>"
      ]
     },
     "metadata": {},
     "output_type": "display_data"
    }
   ],
   "source": [
    "arch='mini_net'\n",
    "main(runs=5, lr=lr, arch=arch, wd=wd)"
   ]
  },
  {
   "cell_type": "markdown",
   "metadata": {},
   "source": [
    "## find the mean of the last 5 runs"
   ]
  },
  {
   "cell_type": "code",
   "execution_count": 16,
   "metadata": {},
   "outputs": [
    {
     "name": "stdout",
     "output_type": "stream",
     "text": [
      "0.852688 0.85172\n"
     ]
    }
   ],
   "source": [
    "res = [0.857325, 0.849427, 0.851210, 0.853758, 0.851720]\n",
    "print(np.mean(res), np.median(res))"
   ]
  }
 ],
 "metadata": {
  "kernelspec": {
   "display_name": "Python 3",
   "language": "python",
   "name": "python3"
  },
  "language_info": {
   "codemirror_mode": {
    "name": "ipython",
    "version": 3
   },
   "file_extension": ".py",
   "mimetype": "text/x-python",
   "name": "python",
   "nbconvert_exporter": "python",
   "pygments_lexer": "ipython3",
   "version": "3.7.6"
  }
 },
 "nbformat": 4,
 "nbformat_minor": 4
}
