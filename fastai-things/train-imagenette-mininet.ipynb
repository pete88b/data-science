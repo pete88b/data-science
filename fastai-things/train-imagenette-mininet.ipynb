{
 "cells": [
  {
   "cell_type": "markdown",
   "metadata": {},
   "source": [
    "# Can we improve model accuracy by using a smaller model?\n",
    "\n",
    "Using fastai `XResNet` we built a model smaller than `ResNeXt 18 deep` that improved accuracy by ~0.5% after 5 epochs of Imagenette training.\n",
    "\n",
    "We also found that reducing batch size to 32 improved accuracy by ~0.5%.\n",
    "\n",
    "| model              | batch size | seconds per epoch | accuracy |\n",
    "| -------------------|------------|-------------------|----------|\n",
    "| xse_resnext50      | 64         | 62                | 84.8%    |\n",
    "| xse_resnext18_deep | 64         | 20                | 84.8%    |\n",
    "| mini net           | 64         | 17                | 85.3%    |\n",
    "| mini net           | 32         | 17                | 85.8%    |\n",
    "\n",
    "Note: this notebook is based on [train_imagenette.py](https://github.com/fastai/fastai/blob/master/nbs/examples/train_imagenette.py)\n",
    "\n",
    "[![Open In Colab](https://colab.research.google.com/assets/colab-badge.svg)](https://colab.research.google.com/github/pete88b/data-science/blob/master/fastai-things/train-imagenette-mininet.ipynb)"
   ]
  },
  {
   "cell_type": "code",
   "execution_count": 1,
   "metadata": {},
   "outputs": [],
   "source": [
    "IN_COLAB = 'google.colab' in str(get_ipython())\n",
    "if IN_COLAB:\n",
    "    !pip install -Uqq fastai\n",
    "    !pip install -Uqq fastscript"
   ]
  },
  {
   "cell_type": "code",
   "execution_count": 1,
   "metadata": {},
   "outputs": [],
   "source": [
    "from fastai.basics import *\n",
    "from fastai.vision.all import *\n",
    "from fastai.callback.all import *\n",
    "from fastai.distributed import *\n",
    "from fastprogress import fastprogress\n",
    "from torchvision.models import *\n",
    "from fastai.vision.models.xresnet import *\n",
    "from fastai.callback.mixup import *\n",
    "from fastscript import *\n",
    "\n",
    "torch.backends.cudnn.benchmark = True\n",
    "fastprogress.MAX_COLS = 80"
   ]
  },
  {
   "cell_type": "code",
   "execution_count": 2,
   "metadata": {},
   "outputs": [],
   "source": [
    "def get_dls(size, woof, bs, sh=0., workers=None):\n",
    "    if size<=224: path = URLs.IMAGEWOOF_320 if woof else URLs.IMAGENETTE_320\n",
    "    else        : path = URLs.IMAGEWOOF     if woof else URLs.IMAGENETTE\n",
    "    source = untar_data(path)\n",
    "    if workers is None: workers = min(8, num_cpus())\n",
    "    # Resize seems to give slightly better accuracy than RandomResizedCrop\n",
    "    resize_ftm = Resize(size) # RandomResizedCrop(size, min_scale=0.35)\n",
    "    dblock = DataBlock(blocks=(ImageBlock, CategoryBlock),\n",
    "                       splitter=GrandparentSplitter(valid_name='val'),\n",
    "                       get_items=get_image_files, get_y=parent_label,\n",
    "                       item_tfms=[resize_ftm, FlipItem(0.5)],\n",
    "                       batch_tfms=RandomErasing(p=0.3, max_count=3, sh=sh) if sh else None)\n",
    "    return dblock.dataloaders(source, path=source, bs=bs, num_workers=workers)"
   ]
  },
  {
   "cell_type": "code",
   "execution_count": 3,
   "metadata": {},
   "outputs": [],
   "source": [
    "@call_parse\n",
    "def main(\n",
    "    gpu:   Param(\"GPU to run on\", int)=None,\n",
    "    woof:  Param(\"Use imagewoof (otherwise imagenette)\", int)=0,\n",
    "    lr:    Param(\"Learning rate\", float)=1e-2,\n",
    "    size:  Param(\"Size (px: 128,192,256)\", int)=128,\n",
    "    sqrmom:Param(\"sqr_mom\", float)=0.99,\n",
    "    mom:   Param(\"Momentum\", float)=0.9,\n",
    "    eps:   Param(\"epsilon\", float)=1e-6,\n",
    "    epochs:Param(\"Number of epochs\", int)=5,\n",
    "    bs:    Param(\"Batch size\", int)=64,\n",
    "    mixup: Param(\"Mixup\", float)=0.,\n",
    "    opt:   Param(\"Optimizer (adam,rms,sgd,ranger)\", str)='ranger',\n",
    "    arch:  Param(\"Architecture\", str)='xresnet50',\n",
    "    sh:    Param(\"Random erase max proportion\", float)=0.,\n",
    "    sa:    Param(\"Self-attention\", int)=0,\n",
    "    sym:   Param(\"Symmetry for self-attention\", int)=0,\n",
    "    beta:  Param(\"SAdam softplus beta\", float)=0.,\n",
    "    act_fn:Param(\"Activation function\", str)='Mish',\n",
    "    fp16:  Param(\"Use mixed precision training\", int)=0,\n",
    "    pool:  Param(\"Pooling method\", str)='AvgPool',\n",
    "    dump:  Param(\"Print model; don't train\", int)=0,\n",
    "    runs:  Param(\"Number of times to repeat training\", int)=1,\n",
    "    meta:  Param(\"Metadata (ignored)\", str)='',\n",
    "    wd:    Param(\"Weight decay\", float)=1e-2\n",
    "):\n",
    "    \"Training of Imagenette.\"\n",
    "\n",
    "    #gpu = setup_distrib(gpu)\n",
    "    if gpu is not None: torch.cuda.set_device(gpu)\n",
    "    if   opt=='adam'  : opt_func = partial(Adam, mom=mom, sqr_mom=sqrmom, eps=eps)\n",
    "    elif opt=='rms'   : opt_func = partial(RMSprop, sqr_mom=sqrmom)\n",
    "    elif opt=='sgd'   : opt_func = partial(SGD, mom=mom)\n",
    "    elif opt=='ranger': opt_func = partial(ranger, mom=mom, sqr_mom=sqrmom, eps=eps, beta=beta)\n",
    "\n",
    "    dls = get_dls(size, woof, bs, sh=sh)\n",
    "    if not gpu: \n",
    "        print(f'epochs: {epochs}; lr: {lr}; size: {size}; sqrmom: {sqrmom}; mom: {mom}; eps: {eps}')\n",
    "        print(f'fp16: {fp16}; arch: {arch}; wd: {wd}; act_fn: {act_fn}; bs: {bs}')\n",
    "        print(f'pool: {pool}; woof: {woof}; sh:{sh}')\n",
    "        \n",
    "    m,act_fn,pool = [globals()[o] for o in (arch,act_fn,pool)]\n",
    "    \n",
    "    final_accuracies = L()\n",
    "    \n",
    "    for run in range(runs):\n",
    "        print(f'Run: {run}')\n",
    "        learn = Learner(dls, m(n_out=10, act_cls=act_fn, sa=sa, sym=sym, pool=pool), opt_func=opt_func, \\\n",
    "                metrics=[accuracy,top_k_accuracy], loss_func=LabelSmoothingCrossEntropy())\n",
    "        if dump: print(learn.model); exit()\n",
    "        if fp16: learn = learn.to_fp16()\n",
    "        cbs = MixUp(mixup) if mixup else []\n",
    "        #n_gpu = torch.cuda.device_count()\n",
    "        #if gpu is None and n_gpu: learn.to_parallel()\n",
    "        if num_distrib()>1: learn.to_distributed(gpu) # Requires `-m fastai.launch`\n",
    "        learn.fit_flat_cos(epochs, lr, wd=wd, cbs=cbs)\n",
    "        final_accuracies.append(learn.final_record[2])\n",
    "    \n",
    "    print('mean accuracy', np.mean(final_accuracies), \n",
    "          'median accuracy', np.median(final_accuracies),\n",
    "          'over', runs, 'run' if runs==1 else 'runs')"
   ]
  },
  {
   "cell_type": "markdown",
   "metadata": {},
   "source": [
    "## Try a small \"out of the box\" model to see what we have to beat\n",
    "\n",
    "`ResNeXt 18 deep` seems to be pretty good to start with. Reducing weight decay improves accuracy a little."
   ]
  },
  {
   "cell_type": "code",
   "execution_count": 4,
   "metadata": {},
   "outputs": [
    {
     "name": "stdout",
     "output_type": "stream",
     "text": [
      "epochs: 5; lr: 0.01; size: 128; sqrmom: 0.99; mom: 0.9; eps: 1e-06\n",
      "fp16: 0; arch: xse_resnext18_deep; wd: 0.0001; act_fn: Mish; bs: 64\n",
      "pool: AvgPool; woof: 0; sh:0.0\n",
      "Run: 0\n"
     ]
    },
    {
     "data": {
      "text/html": [
       "<table border=\"1\" class=\"dataframe\">\n",
       "  <thead>\n",
       "    <tr style=\"text-align: left;\">\n",
       "      <th>epoch</th>\n",
       "      <th>train_loss</th>\n",
       "      <th>valid_loss</th>\n",
       "      <th>accuracy</th>\n",
       "      <th>top_k_accuracy</th>\n",
       "      <th>time</th>\n",
       "    </tr>\n",
       "  </thead>\n",
       "  <tbody>\n",
       "    <tr>\n",
       "      <td>0</td>\n",
       "      <td>1.497614</td>\n",
       "      <td>1.691584</td>\n",
       "      <td>0.550573</td>\n",
       "      <td>0.909809</td>\n",
       "      <td>00:21</td>\n",
       "    </tr>\n",
       "    <tr>\n",
       "      <td>1</td>\n",
       "      <td>1.249366</td>\n",
       "      <td>1.160520</td>\n",
       "      <td>0.734013</td>\n",
       "      <td>0.967643</td>\n",
       "      <td>00:19</td>\n",
       "    </tr>\n",
       "    <tr>\n",
       "      <td>2</td>\n",
       "      <td>1.110032</td>\n",
       "      <td>1.356235</td>\n",
       "      <td>0.656560</td>\n",
       "      <td>0.945987</td>\n",
       "      <td>00:19</td>\n",
       "    </tr>\n",
       "    <tr>\n",
       "      <td>3</td>\n",
       "      <td>1.023334</td>\n",
       "      <td>0.988059</td>\n",
       "      <td>0.803057</td>\n",
       "      <td>0.976051</td>\n",
       "      <td>00:20</td>\n",
       "    </tr>\n",
       "    <tr>\n",
       "      <td>4</td>\n",
       "      <td>0.869452</td>\n",
       "      <td>0.880741</td>\n",
       "      <td>0.848408</td>\n",
       "      <td>0.981911</td>\n",
       "      <td>00:20</td>\n",
       "    </tr>\n",
       "  </tbody>\n",
       "</table>"
      ],
      "text/plain": [
       "<IPython.core.display.HTML object>"
      ]
     },
     "metadata": {},
     "output_type": "display_data"
    },
    {
     "name": "stdout",
     "output_type": "stream",
     "text": [
      "mean accuracy 0.8484076261520386 median accuracy 0.8484076261520386 over 1 run\n"
     ]
    }
   ],
   "source": [
    "lr=1e-2\n",
    "arch='xse_resnext18_deep'\n",
    "wd=1e-4\n",
    "main(lr=lr, arch=arch, wd=wd)"
   ]
  },
  {
   "cell_type": "markdown",
   "metadata": {},
   "source": [
    "## Try a smaller model\n",
    "\n",
    "Reducing layers from `[2,2,2,2,1,1]` to `[1,1,1,1]` improved accuracy and made training faster ... but I had to fiddle with `groups` and `reduction` to get consitently better results."
   ]
  },
  {
   "cell_type": "code",
   "execution_count": 5,
   "metadata": {},
   "outputs": [],
   "source": [
    "def mini_net(n_out=1000, pretrained=False, **kwargs):\n",
    "    block=SEResNeXtBlock\n",
    "    expansion=1\n",
    "    layers=[1,1,1,1] # [2,2,2,2,1,1] xse_resnext18_deep\n",
    "    groups=64        # 32 \n",
    "    reduction=8      # 16\n",
    "    print(f'block={block} expansion={expansion} layers={layers} groups={groups} reduction={reduction}')\n",
    "    return XResNet(block, expansion, layers, n_out=n_out, groups=groups, reduction=reduction, **kwargs)\n",
    "\n",
    "globals()['mini_net'] = mini_net"
   ]
  },
  {
   "cell_type": "markdown",
   "metadata": {},
   "source": [
    "With layers=[1, 1, 1, 1], groups=32 and reduction=16 we see nearly 0.86 accuracy most of the time - but it sometimes drops to ~0.84.\n",
    "\n",
    "I think the changes to `groups` and `reduction` improved the consistency of `mini net` - but may have reduced peak accuracy a tiny bit.\n",
    "\n",
    "Note: I tried a few changes to `groups` and `reduction` with `xse_resnext18_deep` but anything other than 32/16 made it worse."
   ]
  },
  {
   "cell_type": "code",
   "execution_count": 6,
   "metadata": {},
   "outputs": [
    {
     "name": "stdout",
     "output_type": "stream",
     "text": [
      "epochs: 5; lr: 0.01; size: 128; sqrmom: 0.99; mom: 0.9; eps: 1e-06\n",
      "fp16: 0; arch: mini_net; wd: 0.0001; act_fn: Mish; bs: 64\n",
      "pool: AvgPool; woof: 0; sh:0.0\n",
      "Run: 0\n",
      "block=<function SEResNeXtBlock at 0x7f0722e79a60> expansion=1 layers=[1, 1, 1, 1] groups=64 reduction=8\n"
     ]
    },
    {
     "data": {
      "text/html": [
       "<table border=\"1\" class=\"dataframe\">\n",
       "  <thead>\n",
       "    <tr style=\"text-align: left;\">\n",
       "      <th>epoch</th>\n",
       "      <th>train_loss</th>\n",
       "      <th>valid_loss</th>\n",
       "      <th>accuracy</th>\n",
       "      <th>top_k_accuracy</th>\n",
       "      <th>time</th>\n",
       "    </tr>\n",
       "  </thead>\n",
       "  <tbody>\n",
       "    <tr>\n",
       "      <td>0</td>\n",
       "      <td>1.564288</td>\n",
       "      <td>1.676641</td>\n",
       "      <td>0.538854</td>\n",
       "      <td>0.904968</td>\n",
       "      <td>00:18</td>\n",
       "    </tr>\n",
       "    <tr>\n",
       "      <td>1</td>\n",
       "      <td>1.273440</td>\n",
       "      <td>1.152030</td>\n",
       "      <td>0.735287</td>\n",
       "      <td>0.969682</td>\n",
       "      <td>00:16</td>\n",
       "    </tr>\n",
       "    <tr>\n",
       "      <td>2</td>\n",
       "      <td>1.105641</td>\n",
       "      <td>1.211823</td>\n",
       "      <td>0.718471</td>\n",
       "      <td>0.962548</td>\n",
       "      <td>00:17</td>\n",
       "    </tr>\n",
       "    <tr>\n",
       "      <td>3</td>\n",
       "      <td>1.004001</td>\n",
       "      <td>0.974918</td>\n",
       "      <td>0.816815</td>\n",
       "      <td>0.980892</td>\n",
       "      <td>00:17</td>\n",
       "    </tr>\n",
       "    <tr>\n",
       "      <td>4</td>\n",
       "      <td>0.850758</td>\n",
       "      <td>0.890801</td>\n",
       "      <td>0.851720</td>\n",
       "      <td>0.987771</td>\n",
       "      <td>00:17</td>\n",
       "    </tr>\n",
       "  </tbody>\n",
       "</table>"
      ],
      "text/plain": [
       "<IPython.core.display.HTML object>"
      ]
     },
     "metadata": {},
     "output_type": "display_data"
    },
    {
     "name": "stdout",
     "output_type": "stream",
     "text": [
      "mean accuracy 0.8517197370529175 median accuracy 0.8517197370529175 over 1 run\n"
     ]
    }
   ],
   "source": [
    "arch='mini_net'\n",
    "main(runs=1, lr=lr, arch=arch, wd=wd)"
   ]
  },
  {
   "cell_type": "markdown",
   "metadata": {},
   "source": [
    "### Try a smaller batch size\n",
    "\n",
    "This increases train time but improves accuracy by ~0.5%"
   ]
  },
  {
   "cell_type": "code",
   "execution_count": 7,
   "metadata": {},
   "outputs": [
    {
     "name": "stdout",
     "output_type": "stream",
     "text": [
      "epochs: 5; lr: 0.01; size: 128; sqrmom: 0.99; mom: 0.9; eps: 1e-06\n",
      "fp16: 0; arch: mini_net; wd: 0.0001; act_fn: Mish; bs: 32\n",
      "pool: AvgPool; woof: 0; sh:0.0\n",
      "Run: 0\n",
      "block=<function SEResNeXtBlock at 0x7f0722e79a60> expansion=1 layers=[1, 1, 1, 1] groups=64 reduction=8\n"
     ]
    },
    {
     "data": {
      "text/html": [
       "<table border=\"1\" class=\"dataframe\">\n",
       "  <thead>\n",
       "    <tr style=\"text-align: left;\">\n",
       "      <th>epoch</th>\n",
       "      <th>train_loss</th>\n",
       "      <th>valid_loss</th>\n",
       "      <th>accuracy</th>\n",
       "      <th>top_k_accuracy</th>\n",
       "      <th>time</th>\n",
       "    </tr>\n",
       "  </thead>\n",
       "  <tbody>\n",
       "    <tr>\n",
       "      <td>0</td>\n",
       "      <td>1.473351</td>\n",
       "      <td>1.631924</td>\n",
       "      <td>0.582930</td>\n",
       "      <td>0.921019</td>\n",
       "      <td>00:20</td>\n",
       "    </tr>\n",
       "    <tr>\n",
       "      <td>1</td>\n",
       "      <td>1.192614</td>\n",
       "      <td>1.178539</td>\n",
       "      <td>0.740637</td>\n",
       "      <td>0.964331</td>\n",
       "      <td>00:19</td>\n",
       "    </tr>\n",
       "    <tr>\n",
       "      <td>2</td>\n",
       "      <td>1.063384</td>\n",
       "      <td>1.190584</td>\n",
       "      <td>0.728153</td>\n",
       "      <td>0.962293</td>\n",
       "      <td>00:19</td>\n",
       "    </tr>\n",
       "    <tr>\n",
       "      <td>3</td>\n",
       "      <td>0.998295</td>\n",
       "      <td>1.137689</td>\n",
       "      <td>0.755159</td>\n",
       "      <td>0.966369</td>\n",
       "      <td>00:19</td>\n",
       "    </tr>\n",
       "    <tr>\n",
       "      <td>4</td>\n",
       "      <td>0.831468</td>\n",
       "      <td>0.880717</td>\n",
       "      <td>0.857580</td>\n",
       "      <td>0.985223</td>\n",
       "      <td>00:19</td>\n",
       "    </tr>\n",
       "  </tbody>\n",
       "</table>"
      ],
      "text/plain": [
       "<IPython.core.display.HTML object>"
      ]
     },
     "metadata": {},
     "output_type": "display_data"
    },
    {
     "name": "stdout",
     "output_type": "stream",
     "text": [
      "mean accuracy 0.8575795888900757 median accuracy 0.8575795888900757 over 1 run\n"
     ]
    }
   ],
   "source": [
    "arch='mini_net'\n",
    "main(runs=1, lr=lr, arch=arch, wd=wd, bs=32)"
   ]
  },
  {
   "cell_type": "markdown",
   "metadata": {},
   "source": [
    "let's try this config over 5 runs ..."
   ]
  },
  {
   "cell_type": "code",
   "execution_count": 8,
   "metadata": {},
   "outputs": [
    {
     "name": "stdout",
     "output_type": "stream",
     "text": [
      "epochs: 5; lr: 0.01; size: 128; sqrmom: 0.99; mom: 0.9; eps: 1e-06\n",
      "fp16: 0; arch: mini_net; wd: 0.0001; act_fn: Mish; bs: 32\n",
      "pool: AvgPool; woof: 0; sh:0.0\n",
      "Run: 0\n",
      "block=<function SEResNeXtBlock at 0x7f0722e79a60> expansion=1 layers=[1, 1, 1, 1] groups=64 reduction=8\n"
     ]
    },
    {
     "data": {
      "text/html": [
       "<table border=\"1\" class=\"dataframe\">\n",
       "  <thead>\n",
       "    <tr style=\"text-align: left;\">\n",
       "      <th>epoch</th>\n",
       "      <th>train_loss</th>\n",
       "      <th>valid_loss</th>\n",
       "      <th>accuracy</th>\n",
       "      <th>top_k_accuracy</th>\n",
       "      <th>time</th>\n",
       "    </tr>\n",
       "  </thead>\n",
       "  <tbody>\n",
       "    <tr>\n",
       "      <td>0</td>\n",
       "      <td>1.461116</td>\n",
       "      <td>1.312267</td>\n",
       "      <td>0.677452</td>\n",
       "      <td>0.955414</td>\n",
       "      <td>00:19</td>\n",
       "    </tr>\n",
       "    <tr>\n",
       "      <td>1</td>\n",
       "      <td>1.201678</td>\n",
       "      <td>1.160001</td>\n",
       "      <td>0.742166</td>\n",
       "      <td>0.966115</td>\n",
       "      <td>00:19</td>\n",
       "    </tr>\n",
       "    <tr>\n",
       "      <td>2</td>\n",
       "      <td>1.068980</td>\n",
       "      <td>1.167217</td>\n",
       "      <td>0.739108</td>\n",
       "      <td>0.965860</td>\n",
       "      <td>00:19</td>\n",
       "    </tr>\n",
       "    <tr>\n",
       "      <td>3</td>\n",
       "      <td>0.971632</td>\n",
       "      <td>1.048307</td>\n",
       "      <td>0.787516</td>\n",
       "      <td>0.975541</td>\n",
       "      <td>00:19</td>\n",
       "    </tr>\n",
       "    <tr>\n",
       "      <td>4</td>\n",
       "      <td>0.818533</td>\n",
       "      <td>0.870459</td>\n",
       "      <td>0.861147</td>\n",
       "      <td>0.986752</td>\n",
       "      <td>00:19</td>\n",
       "    </tr>\n",
       "  </tbody>\n",
       "</table>"
      ],
      "text/plain": [
       "<IPython.core.display.HTML object>"
      ]
     },
     "metadata": {},
     "output_type": "display_data"
    },
    {
     "name": "stdout",
     "output_type": "stream",
     "text": [
      "Run: 1\n",
      "block=<function SEResNeXtBlock at 0x7f0722e79a60> expansion=1 layers=[1, 1, 1, 1] groups=64 reduction=8\n"
     ]
    },
    {
     "data": {
      "text/html": [
       "<table border=\"1\" class=\"dataframe\">\n",
       "  <thead>\n",
       "    <tr style=\"text-align: left;\">\n",
       "      <th>epoch</th>\n",
       "      <th>train_loss</th>\n",
       "      <th>valid_loss</th>\n",
       "      <th>accuracy</th>\n",
       "      <th>top_k_accuracy</th>\n",
       "      <th>time</th>\n",
       "    </tr>\n",
       "  </thead>\n",
       "  <tbody>\n",
       "    <tr>\n",
       "      <td>0</td>\n",
       "      <td>1.477620</td>\n",
       "      <td>1.386195</td>\n",
       "      <td>0.635414</td>\n",
       "      <td>0.940382</td>\n",
       "      <td>00:19</td>\n",
       "    </tr>\n",
       "    <tr>\n",
       "      <td>1</td>\n",
       "      <td>1.176110</td>\n",
       "      <td>1.149951</td>\n",
       "      <td>0.741401</td>\n",
       "      <td>0.968662</td>\n",
       "      <td>00:19</td>\n",
       "    </tr>\n",
       "    <tr>\n",
       "      <td>2</td>\n",
       "      <td>1.095543</td>\n",
       "      <td>1.186612</td>\n",
       "      <td>0.728917</td>\n",
       "      <td>0.961274</td>\n",
       "      <td>00:19</td>\n",
       "    </tr>\n",
       "    <tr>\n",
       "      <td>3</td>\n",
       "      <td>0.998261</td>\n",
       "      <td>1.201254</td>\n",
       "      <td>0.713885</td>\n",
       "      <td>0.974013</td>\n",
       "      <td>00:19</td>\n",
       "    </tr>\n",
       "    <tr>\n",
       "      <td>4</td>\n",
       "      <td>0.834541</td>\n",
       "      <td>0.871187</td>\n",
       "      <td>0.860892</td>\n",
       "      <td>0.988535</td>\n",
       "      <td>00:20</td>\n",
       "    </tr>\n",
       "  </tbody>\n",
       "</table>"
      ],
      "text/plain": [
       "<IPython.core.display.HTML object>"
      ]
     },
     "metadata": {},
     "output_type": "display_data"
    },
    {
     "name": "stdout",
     "output_type": "stream",
     "text": [
      "Run: 2\n",
      "block=<function SEResNeXtBlock at 0x7f0722e79a60> expansion=1 layers=[1, 1, 1, 1] groups=64 reduction=8\n"
     ]
    },
    {
     "data": {
      "text/html": [
       "<table border=\"1\" class=\"dataframe\">\n",
       "  <thead>\n",
       "    <tr style=\"text-align: left;\">\n",
       "      <th>epoch</th>\n",
       "      <th>train_loss</th>\n",
       "      <th>valid_loss</th>\n",
       "      <th>accuracy</th>\n",
       "      <th>top_k_accuracy</th>\n",
       "      <th>time</th>\n",
       "    </tr>\n",
       "  </thead>\n",
       "  <tbody>\n",
       "    <tr>\n",
       "      <td>0</td>\n",
       "      <td>1.471035</td>\n",
       "      <td>1.754115</td>\n",
       "      <td>0.534268</td>\n",
       "      <td>0.915924</td>\n",
       "      <td>00:19</td>\n",
       "    </tr>\n",
       "    <tr>\n",
       "      <td>1</td>\n",
       "      <td>1.184112</td>\n",
       "      <td>1.148899</td>\n",
       "      <td>0.744968</td>\n",
       "      <td>0.967898</td>\n",
       "      <td>00:19</td>\n",
       "    </tr>\n",
       "    <tr>\n",
       "      <td>2</td>\n",
       "      <td>1.071816</td>\n",
       "      <td>1.117462</td>\n",
       "      <td>0.756943</td>\n",
       "      <td>0.972229</td>\n",
       "      <td>00:19</td>\n",
       "    </tr>\n",
       "    <tr>\n",
       "      <td>3</td>\n",
       "      <td>0.966618</td>\n",
       "      <td>0.984165</td>\n",
       "      <td>0.814777</td>\n",
       "      <td>0.981656</td>\n",
       "      <td>00:19</td>\n",
       "    </tr>\n",
       "    <tr>\n",
       "      <td>4</td>\n",
       "      <td>0.799388</td>\n",
       "      <td>0.866390</td>\n",
       "      <td>0.858599</td>\n",
       "      <td>0.988280</td>\n",
       "      <td>00:19</td>\n",
       "    </tr>\n",
       "  </tbody>\n",
       "</table>"
      ],
      "text/plain": [
       "<IPython.core.display.HTML object>"
      ]
     },
     "metadata": {},
     "output_type": "display_data"
    },
    {
     "name": "stdout",
     "output_type": "stream",
     "text": [
      "Run: 3\n",
      "block=<function SEResNeXtBlock at 0x7f0722e79a60> expansion=1 layers=[1, 1, 1, 1] groups=64 reduction=8\n"
     ]
    },
    {
     "data": {
      "text/html": [
       "<table border=\"1\" class=\"dataframe\">\n",
       "  <thead>\n",
       "    <tr style=\"text-align: left;\">\n",
       "      <th>epoch</th>\n",
       "      <th>train_loss</th>\n",
       "      <th>valid_loss</th>\n",
       "      <th>accuracy</th>\n",
       "      <th>top_k_accuracy</th>\n",
       "      <th>time</th>\n",
       "    </tr>\n",
       "  </thead>\n",
       "  <tbody>\n",
       "    <tr>\n",
       "      <td>0</td>\n",
       "      <td>1.485978</td>\n",
       "      <td>1.379896</td>\n",
       "      <td>0.628025</td>\n",
       "      <td>0.947261</td>\n",
       "      <td>00:19</td>\n",
       "    </tr>\n",
       "    <tr>\n",
       "      <td>1</td>\n",
       "      <td>1.208322</td>\n",
       "      <td>1.201154</td>\n",
       "      <td>0.712102</td>\n",
       "      <td>0.962803</td>\n",
       "      <td>00:19</td>\n",
       "    </tr>\n",
       "    <tr>\n",
       "      <td>2</td>\n",
       "      <td>1.083099</td>\n",
       "      <td>1.178641</td>\n",
       "      <td>0.733503</td>\n",
       "      <td>0.965096</td>\n",
       "      <td>00:19</td>\n",
       "    </tr>\n",
       "    <tr>\n",
       "      <td>3</td>\n",
       "      <td>0.996163</td>\n",
       "      <td>1.164397</td>\n",
       "      <td>0.732994</td>\n",
       "      <td>0.972484</td>\n",
       "      <td>00:19</td>\n",
       "    </tr>\n",
       "    <tr>\n",
       "      <td>4</td>\n",
       "      <td>0.831603</td>\n",
       "      <td>0.882625</td>\n",
       "      <td>0.851720</td>\n",
       "      <td>0.987516</td>\n",
       "      <td>00:20</td>\n",
       "    </tr>\n",
       "  </tbody>\n",
       "</table>"
      ],
      "text/plain": [
       "<IPython.core.display.HTML object>"
      ]
     },
     "metadata": {},
     "output_type": "display_data"
    },
    {
     "name": "stdout",
     "output_type": "stream",
     "text": [
      "Run: 4\n",
      "block=<function SEResNeXtBlock at 0x7f0722e79a60> expansion=1 layers=[1, 1, 1, 1] groups=64 reduction=8\n"
     ]
    },
    {
     "data": {
      "text/html": [
       "<table border=\"1\" class=\"dataframe\">\n",
       "  <thead>\n",
       "    <tr style=\"text-align: left;\">\n",
       "      <th>epoch</th>\n",
       "      <th>train_loss</th>\n",
       "      <th>valid_loss</th>\n",
       "      <th>accuracy</th>\n",
       "      <th>top_k_accuracy</th>\n",
       "      <th>time</th>\n",
       "    </tr>\n",
       "  </thead>\n",
       "  <tbody>\n",
       "    <tr>\n",
       "      <td>0</td>\n",
       "      <td>1.464468</td>\n",
       "      <td>1.520900</td>\n",
       "      <td>0.596943</td>\n",
       "      <td>0.935796</td>\n",
       "      <td>00:19</td>\n",
       "    </tr>\n",
       "    <tr>\n",
       "      <td>1</td>\n",
       "      <td>1.175033</td>\n",
       "      <td>1.240049</td>\n",
       "      <td>0.695796</td>\n",
       "      <td>0.963312</td>\n",
       "      <td>00:20</td>\n",
       "    </tr>\n",
       "    <tr>\n",
       "      <td>2</td>\n",
       "      <td>1.075945</td>\n",
       "      <td>1.315083</td>\n",
       "      <td>0.678726</td>\n",
       "      <td>0.949554</td>\n",
       "      <td>00:19</td>\n",
       "    </tr>\n",
       "    <tr>\n",
       "      <td>3</td>\n",
       "      <td>0.989066</td>\n",
       "      <td>1.217997</td>\n",
       "      <td>0.702675</td>\n",
       "      <td>0.970955</td>\n",
       "      <td>00:19</td>\n",
       "    </tr>\n",
       "    <tr>\n",
       "      <td>4</td>\n",
       "      <td>0.825066</td>\n",
       "      <td>0.886576</td>\n",
       "      <td>0.856306</td>\n",
       "      <td>0.987006</td>\n",
       "      <td>00:19</td>\n",
       "    </tr>\n",
       "  </tbody>\n",
       "</table>"
      ],
      "text/plain": [
       "<IPython.core.display.HTML object>"
      ]
     },
     "metadata": {},
     "output_type": "display_data"
    },
    {
     "name": "stdout",
     "output_type": "stream",
     "text": [
      "mean accuracy 0.8577324748039246 median accuracy 0.8585987091064453 over 5 runs\n"
     ]
    }
   ],
   "source": [
    "arch='mini_net'\n",
    "main(runs=5, lr=lr, arch=arch, wd=wd, bs=32)"
   ]
  }
 ],
 "metadata": {
  "kernelspec": {
   "display_name": "Python 3",
   "language": "python",
   "name": "python3"
  },
  "language_info": {
   "codemirror_mode": {
    "name": "ipython",
    "version": 3
   },
   "file_extension": ".py",
   "mimetype": "text/x-python",
   "name": "python",
   "nbconvert_exporter": "python",
   "pygments_lexer": "ipython3",
   "version": "3.8.5"
  },
  "toc": {
   "base_numbering": 1,
   "nav_menu": {},
   "number_sections": true,
   "sideBar": true,
   "skip_h1_title": false,
   "title_cell": "Table of Contents",
   "title_sidebar": "Contents",
   "toc_cell": false,
   "toc_position": {},
   "toc_section_display": true,
   "toc_window_display": false
  }
 },
 "nbformat": 4,
 "nbformat_minor": 4
}
