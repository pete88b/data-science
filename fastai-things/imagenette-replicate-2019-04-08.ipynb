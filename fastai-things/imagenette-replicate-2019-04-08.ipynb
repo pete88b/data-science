{
 "cells": [
  {
   "cell_type": "markdown",
   "metadata": {},
   "source": [
    "# Replicate the 2019-04-08 imagenette results\n",
    "\n",
    "| Size (px)|Epochs|Accuracy|URL|Params|Notes|\n",
    "|----------|------|--------|---|------|-----|\n",
    "|128 |5|84.6|[link](https://github.com/fastai/imagenette/tree/dfdc53e4e0ffd620f42d0532981ddde7d6554059)|--epochs 5 --bs 64 --lr 3e-3 --mixup 0|4 GPUs|\n",
    "\n",
    "Can anyone help explain why I'm getting nearly 10% lower accuracy?\n",
    "\n",
    "Here's what I've done;\n",
    "- created a new conda env and set-up fastai following https://github.com/fastai/fastai/blob/master/README.md#installation\n",
    "- copied https://github.com/fastai/fastai/blob/master/examples/train_imagenette.py into this notebook\n",
    "- removed `@call_parse` ad updated `main` params directly\n",
    "    - I'll try to find time to get `@call_parse` working in the notbook soon\n",
    "- run on a single GPU Ubuntu laptop"
   ]
  },
  {
   "cell_type": "code",
   "execution_count": 1,
   "metadata": {},
   "outputs": [
    {
     "data": {
      "text/plain": [
       "'1.0.60'"
      ]
     },
     "execution_count": 1,
     "metadata": {},
     "output_type": "execute_result"
    }
   ],
   "source": [
    "import fastai\n",
    "fastai.__version__"
   ]
  },
  {
   "cell_type": "code",
   "execution_count": 2,
   "metadata": {},
   "outputs": [],
   "source": [
    "from fastai.script import *\n",
    "from fastai.vision import *\n",
    "from fastai.callbacks import *\n",
    "from fastai.distributed import *\n",
    "from fastprogress import fastprogress\n",
    "from torchvision.models import *\n",
    "from fastai.vision.models.xresnet import *\n",
    "from fastai.vision.models.xresnet2 import *\n",
    "from fastai.vision.models.presnet import *"
   ]
  },
  {
   "cell_type": "code",
   "execution_count": 3,
   "metadata": {},
   "outputs": [],
   "source": [
    "torch.backends.cudnn.benchmark = True\n",
    "fastprogress.MAX_COLS = 80"
   ]
  },
  {
   "cell_type": "code",
   "execution_count": 4,
   "metadata": {},
   "outputs": [],
   "source": [
    "def get_data(size, woof, bs, workers=None):\n",
    "    if   size<=128: path = URLs.IMAGEWOOF_160 if woof else URLs.IMAGENETTE_160\n",
    "    elif size<=224: path = URLs.IMAGEWOOF_320 if woof else URLs.IMAGENETTE_320\n",
    "    else          : path = URLs.IMAGEWOOF     if woof else URLs.IMAGENETTE\n",
    "    path = untar_data(path)\n",
    "\n",
    "    n_gpus = num_distrib() or 1\n",
    "    if workers is None: workers = min(8, num_cpus()//n_gpus)\n",
    "\n",
    "    return (ImageList.from_folder(path).split_by_folder(valid='val')\n",
    "            .label_from_folder().transform(([flip_lr(p=0.5)], []), size=size)\n",
    "            .databunch(bs=bs, num_workers=workers)\n",
    "            .presize(size, scale=(0.35,1))\n",
    "            .normalize(imagenet_stats))"
   ]
  },
  {
   "cell_type": "code",
   "execution_count": 5,
   "metadata": {},
   "outputs": [
    {
     "name": "stdout",
     "output_type": "stream",
     "text": [
      "lr: 0.003; eff_lr: 0.00075; size: 128; alpha: 0.99; mom: 0.9; eps: 1e-06\n"
     ]
    },
    {
     "data": {
      "text/html": [
       "<table border=\"1\" class=\"dataframe\">\n",
       "  <thead>\n",
       "    <tr style=\"text-align: left;\">\n",
       "      <th>epoch</th>\n",
       "      <th>train_loss</th>\n",
       "      <th>valid_loss</th>\n",
       "      <th>accuracy</th>\n",
       "      <th>top_k_accuracy</th>\n",
       "      <th>time</th>\n",
       "    </tr>\n",
       "  </thead>\n",
       "  <tbody>\n",
       "    <tr>\n",
       "      <td>0</td>\n",
       "      <td>1.719871</td>\n",
       "      <td>2.395309</td>\n",
       "      <td>0.366115</td>\n",
       "      <td>0.843567</td>\n",
       "      <td>00:27</td>\n",
       "    </tr>\n",
       "    <tr>\n",
       "      <td>1</td>\n",
       "      <td>1.502559</td>\n",
       "      <td>1.635979</td>\n",
       "      <td>0.563312</td>\n",
       "      <td>0.918726</td>\n",
       "      <td>00:24</td>\n",
       "    </tr>\n",
       "    <tr>\n",
       "      <td>2</td>\n",
       "      <td>1.319078</td>\n",
       "      <td>1.429097</td>\n",
       "      <td>0.644586</td>\n",
       "      <td>0.948025</td>\n",
       "      <td>00:24</td>\n",
       "    </tr>\n",
       "    <tr>\n",
       "      <td>3</td>\n",
       "      <td>1.175530</td>\n",
       "      <td>1.212281</td>\n",
       "      <td>0.715924</td>\n",
       "      <td>0.966115</td>\n",
       "      <td>00:25</td>\n",
       "    </tr>\n",
       "    <tr>\n",
       "      <td>4</td>\n",
       "      <td>1.077183</td>\n",
       "      <td>1.132247</td>\n",
       "      <td>0.751338</td>\n",
       "      <td>0.975796</td>\n",
       "      <td>00:25</td>\n",
       "    </tr>\n",
       "  </tbody>\n",
       "</table>"
      ],
      "text/plain": [
       "<IPython.core.display.HTML object>"
      ]
     },
     "metadata": {},
     "output_type": "display_data"
    }
   ],
   "source": [
    "# --epochs 5 --bs 64 --lr 3e-3 --mixup 0\n",
    "def main(\n",
    "        gpu:Param(\"GPU to run on\", str)=None,\n",
    "        woof: Param(\"Use imagewoof (otherwise imagenette)\", int)=0,\n",
    "        lr: Param(\"Learning rate\", float)=3e-3,\n",
    "        size: Param(\"Size (px: 128,192,224)\", int)=128,\n",
    "        alpha: Param(\"Alpha\", float)=0.99,\n",
    "        mom: Param(\"Momentum\", float)=0.9,\n",
    "        eps: Param(\"epsilon\", float)=1e-6,\n",
    "        epochs: Param(\"Number of epochs\", int)=5,\n",
    "        bs: Param(\"Batch size\", int)=64,\n",
    "        mixup: Param(\"Mixup\", float)=0.,\n",
    "        opt: Param(\"Optimizer (adam,rms,sgd)\", str)='adam',\n",
    "        arch: Param(\"Architecture (xresnet34, xresnet50, presnet34, presnet50)\", str)='xresnet50',\n",
    "        dump: Param(\"Print model; don't train\", int)=0,\n",
    "        ):\n",
    "    \"Distributed training of Imagenette.\"\n",
    "\n",
    "    gpu = setup_distrib(gpu)\n",
    "    if gpu is None: bs *= torch.cuda.device_count()\n",
    "    if   opt=='adam' : opt_func = partial(optim.Adam, betas=(mom,alpha), eps=eps)\n",
    "    elif opt=='rms'  : opt_func = partial(optim.RMSprop, alpha=alpha, eps=eps)\n",
    "    elif opt=='sgd'  : opt_func = partial(optim.SGD, momentum=mom)\n",
    "\n",
    "    data = get_data(size, woof, bs)\n",
    "    bs_rat = bs/256\n",
    "    if gpu is not None: bs_rat *= num_distrib()\n",
    "    if not gpu: print(f'lr: {lr}; eff_lr: {lr*bs_rat}; size: {size}; alpha: {alpha}; mom: {mom}; eps: {eps}')\n",
    "    lr *= bs_rat\n",
    "\n",
    "    m = globals()[arch]\n",
    "    learn = (Learner(data, m(c_out=10), wd=1e-2, opt_func=opt_func,\n",
    "             metrics=[accuracy,top_k_accuracy],\n",
    "             bn_wd=False, true_wd=True,\n",
    "             loss_func = LabelSmoothingCrossEntropy())\n",
    "            )\n",
    "    if dump: print(learn.model); exit()\n",
    "    if mixup: learn = learn.mixup(alpha=mixup)\n",
    "    learn = learn.to_fp16(dynamic=True)\n",
    "    if gpu is None:       learn.to_parallel()\n",
    "    elif num_distrib()>1: learn.to_distributed(gpu) # Requires `-m fastai.launch`\n",
    "\n",
    "    learn.fit_one_cycle(epochs, lr, div_factor=10, pct_start=0.3)\n",
    "    \n",
    "main()"
   ]
  }
 ],
 "metadata": {
  "kernelspec": {
   "display_name": "Python 3",
   "language": "python",
   "name": "python3"
  },
  "language_info": {
   "codemirror_mode": {
    "name": "ipython",
    "version": 3
   },
   "file_extension": ".py",
   "mimetype": "text/x-python",
   "name": "python",
   "nbconvert_exporter": "python",
   "pygments_lexer": "ipython3",
   "version": "3.7.6"
  }
 },
 "nbformat": 4,
 "nbformat_minor": 2
}
