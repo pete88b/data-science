{
 "cells": [
  {
   "cell_type": "markdown",
   "metadata": {},
   "source": [
    "So... you're providing a library and has dependencies on;\n",
    "- another library that relies on `PIL.PILLOW_VERSION` and \n",
    "- pilow v7.\n",
    "\n",
    "### Is there a good way to hide the fact that pillow v7 removed `PILLOW_VERSION` from users of your library?"
   ]
  },
  {
   "cell_type": "markdown",
   "metadata": {},
   "source": [
    "Start by demonstrating the problem using fastai2 source as of 2020-02-20 which uses (see: environment.yml);\n",
    "- torchvision<=0.4.2\n",
    "- pillow"
   ]
  },
  {
   "cell_type": "code",
   "execution_count": 1,
   "metadata": {},
   "outputs": [
    {
     "name": "stdout",
     "output_type": "stream",
     "text": [
      "cannot import name 'PILLOW_VERSION' from 'PIL' (/home/peter/anaconda3/envs/fastai-editable/lib/python3.7/site-packages/PIL/__init__.py)\n"
     ]
    }
   ],
   "source": [
    "try:\n",
    "    from torchvision.transforms.functional import pad as tvpad\n",
    "    raise Exception('PILLOW_VERSION should not be available yet')\n",
    "except ImportError as e:\n",
    "    print(e)"
   ]
  },
  {
   "cell_type": "markdown",
   "metadata": {},
   "source": [
    "we could wrap the real import function to add PILLOW_VERSION to PIL "
   ]
  },
  {
   "cell_type": "code",
   "execution_count": 2,
   "metadata": {},
   "outputs": [],
   "source": [
    "import builtins\n",
    "_real_import = builtins.__import__\n",
    "def _pil_fix_import(name, globals=None, locals=None, fromlist=(), level=0):\n",
    "    res = _real_import(name, globals, locals, fromlist, level)\n",
    "    if name == 'PIL': res.PILLOW_VERSION = res.__version__\n",
    "    return res\n",
    "builtins.__import__ = _pil_fix_import"
   ]
  },
  {
   "cell_type": "markdown",
   "metadata": {},
   "source": [
    "no errors this time (o:"
   ]
  },
  {
   "cell_type": "code",
   "execution_count": 3,
   "metadata": {},
   "outputs": [],
   "source": [
    "from PIL import PILLOW_VERSION"
   ]
  },
  {
   "cell_type": "markdown",
   "metadata": {},
   "source": [
    "this looks pretty good to me but there are problems with the above approach\n",
    "- https://docs.python.org/3/library/functions.html#__import__ tells us that doing this is strongly discouraged as it is usually simpler to use import hooks (see PEP 302)\n",
    "    - maybe I'm missing something because I can't find a simple way to wrap importlib finders/loaders to do the same thing\n",
    "- you have to import builtins\n",
    "\n",
    "the following might look more simple but ...\n",
    "- you would need to run this before anything tries to access `PIL.PILLOW_VERSION`\n",
    "    - which could be in multiple places and\n",
    "    - might mean you sometimes import PIL when you don't need it and\n",
    "- you have to import PIL, rather than PIL.Image etc"
   ]
  },
  {
   "cell_type": "code",
   "execution_count": 4,
   "metadata": {},
   "outputs": [],
   "source": [
    "import PIL\n",
    "PIL.PILLOW_VERSION = PIL.__version__"
   ]
  },
  {
   "cell_type": "markdown",
   "metadata": {},
   "source": [
    "Note: if you're writing a notebook, using the code in the cell above could be a good alternative to using a pre-v7 version of pillow"
   ]
  }
 ],
 "metadata": {
  "kernelspec": {
   "display_name": "Python 3",
   "language": "python",
   "name": "python3"
  },
  "language_info": {
   "codemirror_mode": {
    "name": "ipython",
    "version": 3
   },
   "file_extension": ".py",
   "mimetype": "text/x-python",
   "name": "python",
   "nbconvert_exporter": "python",
   "pygments_lexer": "ipython3",
   "version": "3.7.6"
  }
 },
 "nbformat": 4,
 "nbformat_minor": 4
}
