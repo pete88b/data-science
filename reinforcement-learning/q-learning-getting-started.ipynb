{
 "cells": [
  {
   "cell_type": "markdown",
   "id": "7e6978ae",
   "metadata": {},
   "source": [
    "Rich S. Sutton [Tutorial: Introduction to Reinforcement Learning with Function Approximation](https://www.microsoft.com/en-us/research/video/tutorial-introduction-to-reinforcement-learning-with-function-approximation/)\n",
    "\n",
    "Didn't get very far through this tutorial before I wanted to try building a state machine and a Q-learning agent ..."
   ]
  },
  {
   "cell_type": "code",
   "execution_count": 1,
   "id": "54258cf2",
   "metadata": {},
   "outputs": [],
   "source": [
    "import numpy as np"
   ]
  },
  {
   "cell_type": "code",
   "execution_count": 2,
   "id": "bc870601",
   "metadata": {},
   "outputs": [],
   "source": [
    "states = ['A', 'B']\n",
    "state_to_i = {s:i for i,s in enumerate(states)}\n",
    "actions = ['1', '2']\n",
    "action_to_i = {s:i for i,s in enumerate(actions)}"
   ]
  },
  {
   "cell_type": "code",
   "execution_count": 3,
   "id": "296b5c6a",
   "metadata": {},
   "outputs": [],
   "source": [
    "class Environment:\n",
    "    def __init__(self):\n",
    "        self.state = states[0]\n",
    "        self.rng = np.random.default_rng()\n",
    "        \n",
    "    def change_state(self, probablity_that_we_will_change=None):\n",
    "        if probablity_that_we_will_change is not None:\n",
    "            if self.rng.choice(2, p=[probablity_that_we_will_change, 1-probablity_that_we_will_change]) == 1:\n",
    "                return # i.e. don't change state\n",
    "        self.state = states[1 - state_to_i[self.state]]\n",
    "        \n",
    "    def step(self, action):\n",
    "        # 00:22:35 state machine\n",
    "        if self.state == states[0]:                    # A\n",
    "            if action == actions[0]:                   # 1\n",
    "                return 10 + np.random.randint(-3, 3)\n",
    "            else:                                      # 2\n",
    "                self.change_state(0.8)\n",
    "                return -10 + np.random.randint(0, 15)\n",
    "        else:                                          # B\n",
    "            if action == actions[0]:                   # 1\n",
    "                self.change_state(0.8)\n",
    "                return 40 + np.random.randint(-5, 5)\n",
    "            else:                                      # 2\n",
    "                self.change_state(0.8)\n",
    "                return 20 + np.random.randint(-3, 3)"
   ]
  },
  {
   "cell_type": "code",
   "execution_count": 4,
   "id": "414fd57e",
   "metadata": {},
   "outputs": [
    {
     "name": "stdout",
     "output_type": "stream",
     "text": [
      "state A action 1 reward   7 next state A\n",
      "state A action 1 reward  12 next state A\n",
      "state A action 2 reward   0 next state B\n",
      "state B action 2 reward  19 next state B\n",
      "state B action 1 reward  37 next state A\n",
      "state A action 2 reward   3 next state B\n"
     ]
    }
   ],
   "source": [
    "def demo():\n",
    "    env = Environment()\n",
    "    for action in '1 1 2 2 1 2'.split(' '):\n",
    "        print(f'state {env.state} action {action} reward {env.step(action): >3} next state {env.state}')\n",
    "demo()"
   ]
  },
  {
   "cell_type": "code",
   "execution_count": 5,
   "id": "28fb8c7d",
   "metadata": {},
   "outputs": [],
   "source": [
    "class Agent:\n",
    "    def __init__(self):\n",
    "        self.q_table = np.zeros((len(states), len(actions)))\n",
    "        self.rng = np.random.default_rng()\n",
    "        \n",
    "    def learn(self, time_steps=100, lr=0.9, gamma=0.95, epsilon=1.0):\n",
    "        for time_step in range(time_steps):\n",
    "            state = env.state\n",
    "            if self.rng.choice(2, p=[epsilon, 1-epsilon]) == 0: # epsilon controls explore/exploit balance\n",
    "                action = actions[int(self.rng.choice(2))]\n",
    "            else:\n",
    "                action = actions[np.argmax(self.q_table[state_to_i[state]])]\n",
    "            reward = env.step(action)\n",
    "            new_state = env.state\n",
    "#             print(state, action, new_state, reward, epsilon)\n",
    "            # 00:35:32 in sutton lecture - Q learning, the simplest RL algo\n",
    "            q, state, action, new_state = self.q_table, state_to_i[state], action_to_i[action], state_to_i[new_state]\n",
    "            q[state, action] = q[state, action] + lr * (reward + gamma * np.max(q[new_state]) - q[state, action])\n",
    "            # q*(s,a) = E[reward + gamma * np.max(q[new_state]) | St=s, At=a] Bellman optimality equation???\n",
    "            \n",
    "    def exploit(self, time_steps):\n",
    "        for time_step in range(time_steps):\n",
    "            state = env.state\n",
    "            action = actions[np.argmax(self.q_table[state_to_i[state]])] # greedify the policy\n",
    "            reward = env.step(action)\n",
    "            new_state = env.state\n",
    "            print(state, action, new_state, reward)"
   ]
  },
  {
   "cell_type": "markdown",
   "id": "1a533e8d",
   "metadata": {},
   "source": [
    "without stochastic state change, the agent learns in ~20 steps"
   ]
  },
  {
   "cell_type": "code",
   "execution_count": 6,
   "id": "e2849dff",
   "metadata": {},
   "outputs": [
    {
     "name": "stdout",
     "output_type": "stream",
     "text": [
      "Before training\n",
      "[[0. 0.]\n",
      " [0. 0.]]\n",
      "A 1 A 11\n",
      "A 1 A 9\n",
      "A 1 A 9\n",
      "A 1 A 11\n",
      "A 1 A 8\n",
      "A 1 A 8\n",
      "A 1 A 9\n",
      "A 1 A 10\n",
      "A 1 A 11\n",
      "After training part 1\n",
      "[[175.54652721 182.7931265 ]\n",
      " [201.44845885 167.8978501 ]]\n",
      "B 1 A 40\n",
      "A 2 B -10\n",
      "B 1 A 43\n",
      "A 2 B -4\n",
      "B 1 B 35\n",
      "B 1 A 44\n",
      "A 2 B -7\n",
      "B 1 A 37\n",
      "A 2 B -1\n",
      "After training with reduced eps\n",
      "[[202.54635173 227.95599166]\n",
      " [255.14391476 218.12939142]]\n",
      "A 2 B -4\n",
      "B 1 A 43\n",
      "A 2 B -10\n",
      "B 1 B 38\n",
      "B 1 A 41\n",
      "A 2 B -6\n",
      "B 1 A 40\n",
      "A 2 A -9\n",
      "A 2 B -8\n"
     ]
    }
   ],
   "source": [
    "env = Environment()\n",
    "agent = Agent()\n",
    "print('Before training')\n",
    "print(agent.q_table)\n",
    "agent.exploit(9)\n",
    "\n",
    "agent.learn(time_steps=50, lr=0.9) # it might make sense to do cosine anealing of lr, eps, ...\n",
    "print('After training part 1')\n",
    "print(agent.q_table)\n",
    "agent.exploit(9)\n",
    "\n",
    "agent.learn(time_steps=50, lr=0.3, epsilon=0.5) # but stepped decay works - and is sometimes not needed for this problem\n",
    "print('After training with reduced eps')\n",
    "print(agent.q_table)\n",
    "agent.exploit(9)"
   ]
  },
  {
   "cell_type": "markdown",
   "id": "1394cfa4",
   "metadata": {},
   "source": [
    "how could the agent tell when it has learned enough? i.e. if the goal is to maximize long term reward, the sooner we stop trying random things, the better"
   ]
  }
 ],
 "metadata": {
  "kernelspec": {
   "display_name": "Python 3 (ipykernel)",
   "language": "python",
   "name": "python3"
  },
  "language_info": {
   "codemirror_mode": {
    "name": "ipython",
    "version": 3
   },
   "file_extension": ".py",
   "mimetype": "text/x-python",
   "name": "python",
   "nbconvert_exporter": "python",
   "pygments_lexer": "ipython3",
   "version": "3.9.0"
  }
 },
 "nbformat": 4,
 "nbformat_minor": 5
}
