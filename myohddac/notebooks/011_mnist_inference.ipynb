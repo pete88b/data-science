{
 "cells": [
  {
   "cell_type": "markdown",
   "metadata": {},
   "source": [
    "# This notebook uses images create via the web app\n",
    "\n",
    "Please see: data-science/myohddac/README.txt"
   ]
  },
  {
   "cell_type": "code",
   "execution_count": 1,
   "metadata": {},
   "outputs": [],
   "source": [
    "%reload_ext autoreload\n",
    "%autoreload 2\n",
    "%matplotlib inline"
   ]
  },
  {
   "cell_type": "code",
   "execution_count": 2,
   "metadata": {},
   "outputs": [],
   "source": [
    "from fastai.vision import *"
   ]
  },
  {
   "cell_type": "code",
   "execution_count": 3,
   "metadata": {},
   "outputs": [
    {
     "data": {
      "text/plain": [
       "PosixPath('/home/peter/github/data-science/myohddac/notebooks')"
      ]
     },
     "execution_count": 3,
     "metadata": {},
     "output_type": "execute_result"
    }
   ],
   "source": [
    "path = Path.cwd();path"
   ]
  },
  {
   "cell_type": "markdown",
   "metadata": {},
   "source": [
    "Load the MNIST classifier: learner and databunch"
   ]
  },
  {
   "cell_type": "code",
   "execution_count": 4,
   "metadata": {},
   "outputs": [],
   "source": [
    "learn = load_learner(path, 'mnist-learn-export.pkl')\n",
    "data = DataBunch.load_empty(path, 'mnist-data-export.pkl')\n",
    "image_list = ImageList.from_folder(path.parents[0]/'images')\n",
    "data.add_test(image_list)"
   ]
  },
  {
   "cell_type": "markdown",
   "metadata": {},
   "source": [
    "Load the \"MNIST or not\" model - we'll use the same data for both models"
   ]
  },
  {
   "cell_type": "code",
   "execution_count": 5,
   "metadata": {},
   "outputs": [],
   "source": [
    "mnist_or_not_learn = load_learner(path, 'mnist-or-not-learn-export.pkl')\n",
    "opt_thresh = mnist_or_not_learn.model.opt_thresh\n",
    "# mnist_or_not_data = DataBunch.load_empty(path, 'mnist-or-not-data-export.pkl')\n",
    "# mnist_or_not_data.add_test(image_list)"
   ]
  },
  {
   "cell_type": "markdown",
   "metadata": {},
   "source": [
    "Run an image through both models\n",
    "- the MNIST classifier seems to be doing a good job\n",
    "- the \"MNIST or not\" model is not doing so well - maybe the threshold is too high for these images?"
   ]
  },
  {
   "cell_type": "code",
   "execution_count": 6,
   "metadata": {},
   "outputs": [
    {
     "name": "stdout",
     "output_type": "stream",
     "text": [
      "/home/peter/github/data-science/myohddac/images/4-y-1576168454.594822.png\n",
      "target 4 predicted 4 with \"probability\" 0.993\n",
      "is_digit_score 0.737 is above the threshold of 0.504\n"
     ]
    },
    {
     "data": {
      "image/png": "[encoded data removed]",
      "text/plain": [
       "<Figure size 288x288 with 1 Axes>"
      ]
     },
     "metadata": {
      "needs_background": "light"
     },
     "output_type": "display_data"
    },
    {
     "data": {
      "image/png": "[encoded data removed]",
      "text/plain": [
       "<Figure size 288x288 with 1 Axes>"
      ]
     },
     "metadata": {
      "needs_background": "light"
     },
     "output_type": "display_data"
    }
   ],
   "source": [
    "data_item_idx = 3\n",
    "print(image_list.items[data_item_idx])\n",
    "img_size = 4\n",
    "img = data.test_ds[data_item_idx][0]\n",
    "img.show(figsize=(img_size, img_size), title='processed image')\n",
    "image_list[data_item_idx].show(\n",
    "    figsize=(img_size, img_size), title='original image')\n",
    "target = image_list.items[data_item_idx].stem[0]\n",
    "pred = learn.predict(img)\n",
    "prob = round(torch.max(pred[2]).item(), 3)\n",
    "is_digit_score = round(mnist_or_not_learn.predict(img)[1].item(), 3)\n",
    "is_digit = is_digit_score>opt_thresh\n",
    "print('target', target, 'predicted', pred[0], 'with \"probability\"', prob)\n",
    "print('is_digit_score', is_digit_score, 'is', 'above' if is_digit else 'below', 'the threshold of', opt_thresh)"
   ]
  },
  {
   "cell_type": "markdown",
   "metadata": {},
   "source": [
    "# How can we use these models to confidently classify hand drawn digits, that might not be digits?\n",
    "\n",
    "We have;\n",
    "- a classifier that will always tell us the image is a digit and\n",
    "- a regressor that will tell us how much digit is in the image\n",
    "\n",
    "Maybe it's a simple as saying; if both scores are high, we can be confident in the classification?\n",
    "\n",
    "<table>\n",
    "    <tr>\n",
    "        <td rowspan=4 style='transform: rotate(-90deg)' valign=\"bottom\">Regressor</td>\n",
    "        <td colspan=3>Classifier</td>\n",
    "    </tr>\n",
    "    <tr>\n",
    "        <td></td><td>high</td><td>low</td>\n",
    "    </tr>\n",
    "    <tr>\n",
    "        <td>high</td><td bgcolor='green'>Y</td><td bgcolor='orange'>?</td>\n",
    "    </tr>\n",
    "    <tr>\n",
    "        <td>low</td><td bgcolor='orange'>?</td><td bgcolor='red'>N</td>\n",
    "    </tr>\n",
    "</table>\n",
    "\n",
    "TODO: try to find thresh values, which could be different for different digits"
   ]
  }
 ],
 "metadata": {
  "kernelspec": {
   "display_name": "Python 3",
   "language": "python",
   "name": "python3"
  },
  "language_info": {
   "codemirror_mode": {
    "name": "ipython",
    "version": 3
   },
   "file_extension": ".py",
   "mimetype": "text/x-python",
   "name": "python",
   "nbconvert_exporter": "python",
   "pygments_lexer": "ipython3",
   "version": "3.7.6"
  },
  "toc": {
   "base_numbering": 1,
   "nav_menu": {},
   "number_sections": true,
   "sideBar": true,
   "skip_h1_title": false,
   "title_cell": "Table of Contents",
   "title_sidebar": "Contents",
   "toc_cell": false,
   "toc_position": {},
   "toc_section_display": true,
   "toc_window_display": false
  }
 },
 "nbformat": 4,
 "nbformat_minor": 2
}
