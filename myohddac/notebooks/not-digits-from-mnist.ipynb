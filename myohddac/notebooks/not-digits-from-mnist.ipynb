{
 "cells": [
  {
   "cell_type": "markdown",
   "metadata": {},
   "source": [
    "# Create a dataset of non-digits from MNIST\n",
    "\n",
    "Can we create a dataset of non-digits that can be used (by mnist-or-not-training.ipynb) to train a model that tells us if a hand-drawn image is a digit or not?\n",
    "\n",
    "While it'd be easy to use characters etc from EMNIST, I'm interested to see if using non-digit images that\n",
    "- have features of digits (i.e. are made up of parts of digit images) but\n",
    "- are not valid digits (and are mostly not valid characters or symbols of any kind)\n",
    "\n",
    "can be used to create a model that will generalize to hand drawn characters, symbols, scribbles etc"
   ]
  },
  {
   "cell_type": "markdown",
   "metadata": {},
   "source": [
    "| conversion                                 | 0 | 1 | 2 | 3 | 4 | 5 | 6 | 7 | 8 | 9 | notes                 |\n",
    "|--------------------------------------------|---|---|---|---|---|---|---|---|---|---|-----------------------|\n",
    "| zero 1 square at random (1 quarter size)   | y |   | y | y | y | y | y | y | y | y |                       |\n",
    "| zero 1 quadrant                            | y |   | y | y | y | y | y | y | y | y |                       |\n",
    "| zero 1 half vertical                       | y | y | y | y | y | y | y | y | y | y |                       |\n",
    "| zero 1 half horizontally                   | y |   | y | y | y | y | y | y | y | y |                       |\n",
    "| flip top half vertically                   | y |   | y | y | y | y | y | y |   |   |                       |\n",
    "| flip vertial                               |   |   | y |   | y | y | y | y |   | y |                       |\n",
    "| flip horizontal                            |   |   | y | y | y | y | y | y |   | y |                       |\n",
    "| overlay a different number                 | y | y | y | y | y | y | y | y | y | y | 8 and 6 might make 8! |\n",
    "| overlay same digit rotated 90, 270         |   | y | y | y | y | y | y | y | y | y |                       |\n",
    "| overlay same digit rotated 180             |   |   | y |   | y | y |   | y |   |   |                       |\n",
    "| random scribble                            | y | y | y | y | y | y | y | y | y | y |                       |\n",
    "| half of 1 number joined to half of another |   |   |   |   |   |   |   |   |   |   |                       |\n",
    "| Rotate: 90, 270                            |   | y | y | y | y | y | y | y | y | y |                       |\n",
    "| Rotate: 180                                |   |   | y | y | y | y |   | y |   |   |                       |\n",
    "| smiley face                                | y |   |   |   |   |   |   |   |   |   |                       |\n",
    "\n",
    "See: https://thisdavej.com/copy-table-in-excel-and-paste-as-a-markdown-table/"
   ]
  },
  {
   "cell_type": "code",
   "execution_count": 1,
   "metadata": {},
   "outputs": [],
   "source": [
    "%reload_ext autoreload\n",
    "%autoreload 2\n",
    "%matplotlib inline\n",
    "from nbdev_quick import *\n",
    "nbdev_quick.init()"
   ]
  },
  {
   "cell_type": "code",
   "execution_count": 2,
   "metadata": {},
   "outputs": [],
   "source": [
    "import torch\n",
    "from torchvision.transforms import functional as F\n",
    "from torch.nn.functional import interpolate,pad\n",
    "from fastai.datasets import untar_data,URLs\n",
    "from random import choice,randint,uniform\n",
    "from functools import partial\n",
    "import inspect"
   ]
  },
  {
   "cell_type": "code",
   "execution_count": 3,
   "metadata": {},
   "outputs": [
    {
     "data": {
      "image/png": "[encoded data removed]",
      "text/plain": [
       "<PIL.PngImagePlugin.PngImageFile image mode=L size=28x28 at 0x7F5FBE9E66D0>"
      ]
     },
     "execution_count": 3,
     "metadata": {},
     "output_type": "execute_result"
    }
   ],
   "source": [
    "img0_path=mnist_path/'training/0/210.png'\n",
    "img0=PIL.Image.open(img0_path)\n",
    "img4_path=mnist_path/'training/4/354.png'\n",
    "img4=PIL.Image.open(img4_path)\n",
    "img4"
   ]
  },
  {
   "cell_type": "markdown",
   "metadata": {},
   "source": [
    "## Define functions that can convert a digit into something that is not a digit\n",
    "\n",
    "converter functions can take either 1 or 4 arguments\n",
    "- img (a PIL Image)\n",
    "- img, input_path (the path we're reading from), kind (training or testing), digit (which digit is img)\n",
    "\n",
    "You can see below that `_create_not_digits` uses `can_call_with_n_positional_args` to know how many args to pass"
   ]
  },
  {
   "cell_type": "code",
   "execution_count": 4,
   "metadata": {},
   "outputs": [],
   "source": [
    "def open_random(input_path, kind, digits):\n",
    "    \"pick an image at random that is of the right `kind` and is one of `digits`\"\n",
    "    path=input_path/f'{kind}/{choice(digits)}'\n",
    "    return PIL.Image.open(choice(list(path.iterdir())))"
   ]
  },
  {
   "cell_type": "code",
   "execution_count": 5,
   "metadata": {},
   "outputs": [
    {
     "data": {
      "image/png": "[encoded data removed]",
      "text/plain": [
       "<PIL.PngImagePlugin.PngImageFile image mode=L size=28x28 at 0x7F5FBE9F8450>"
      ]
     },
     "execution_count": 5,
     "metadata": {},
     "output_type": "execute_result"
    }
   ],
   "source": [
    "open_random(mnist_path, 'training', [0,1,2,3])"
   ]
  },
  {
   "cell_type": "code",
   "execution_count": 6,
   "metadata": {},
   "outputs": [
    {
     "data": {
      "image/png": "[encoded data removed]",
      "text/plain": [
       "<PIL.Image.Image image mode=L size=28x28 at 0x7F5FBEE36D50>"
      ]
     },
     "execution_count": 6,
     "metadata": {},
     "output_type": "execute_result"
    }
   ],
   "source": [
    "F.vflip(img4)"
   ]
  },
  {
   "cell_type": "code",
   "execution_count": 7,
   "metadata": {},
   "outputs": [
    {
     "data": {
      "image/png": "[encoded data removed]",
      "text/plain": [
       "<PIL.Image.Image image mode=L size=28x28 at 0x7F5FBE9DFE90>"
      ]
     },
     "execution_count": 7,
     "metadata": {},
     "output_type": "execute_result"
    }
   ],
   "source": [
    "F.hflip(img4)"
   ]
  },
  {
   "cell_type": "code",
   "execution_count": 8,
   "metadata": {},
   "outputs": [],
   "source": [
    "def rotate(img,angle=90):\n",
    "    return img.rotate(angle)"
   ]
  },
  {
   "cell_type": "code",
   "execution_count": 9,
   "metadata": {},
   "outputs": [
    {
     "data": {
      "image/png": "[encoded data removed]",
      "text/plain": [
       "<PIL.Image.Image image mode=L size=28x28 at 0x7F5FBEA03210>"
      ]
     },
     "execution_count": 9,
     "metadata": {},
     "output_type": "execute_result"
    }
   ],
   "source": [
    "rotate(img4, 270) # F.rotate -> error )o:"
   ]
  },
  {
   "cell_type": "code",
   "execution_count": 10,
   "metadata": {},
   "outputs": [],
   "source": [
    "rotate_180=partial(rotate,angle=180)\n",
    "rotate_270=partial(rotate,angle=270)"
   ]
  },
  {
   "cell_type": "code",
   "execution_count": 11,
   "metadata": {},
   "outputs": [
    {
     "data": {
      "image/png": "[encoded data removed]",
      "text/plain": [
       "<PIL.Image.Image image mode=L size=28x28 at 0x7F5FBEA03490>"
      ]
     },
     "execution_count": 11,
     "metadata": {},
     "output_type": "execute_result"
    }
   ],
   "source": [
    "rotate_180(img4)"
   ]
  },
  {
   "cell_type": "code",
   "execution_count": 12,
   "metadata": {},
   "outputs": [],
   "source": [
    "def erase_quadrant(img,i=0,j=0,v=0):\n",
    "    return F.to_pil_image(F.erase(F.to_tensor(img),i,j,14,14,v))"
   ]
  },
  {
   "cell_type": "code",
   "execution_count": 13,
   "metadata": {},
   "outputs": [
    {
     "data": {
      "image/png": "[encoded data removed]",
      "text/plain": [
       "<PIL.Image.Image image mode=L size=28x28 at 0x7F5FBEA08310>"
      ]
     },
     "execution_count": 13,
     "metadata": {},
     "output_type": "execute_result"
    }
   ],
   "source": [
    "erase_quadrant(img4)"
   ]
  },
  {
   "cell_type": "code",
   "execution_count": 14,
   "metadata": {},
   "outputs": [
    {
     "data": {
      "image/png": "[encoded data removed]",
      "text/plain": [
       "<PIL.Image.Image image mode=L size=28x28 at 0x7F5FBEA08CD0>"
      ]
     },
     "execution_count": 14,
     "metadata": {},
     "output_type": "execute_result"
    }
   ],
   "source": [
    "erase_quadrant(img4,14,14)"
   ]
  },
  {
   "cell_type": "code",
   "execution_count": 15,
   "metadata": {},
   "outputs": [
    {
     "data": {
      "image/png": "[encoded data removed]",
      "text/plain": [
       "<PIL.Image.Image image mode=L size=28x28 at 0x7F5FBEA085D0>"
      ]
     },
     "execution_count": 15,
     "metadata": {},
     "output_type": "execute_result"
    }
   ],
   "source": [
    "erase_quadrant(img4.rotate(45),0,0,.75).rotate(-45)"
   ]
  },
  {
   "cell_type": "code",
   "execution_count": 16,
   "metadata": {},
   "outputs": [],
   "source": [
    "def erase_random_quadrant(img):\n",
    "    i,j=randint(0,1)*14,randint(0,1)*14\n",
    "    return F.to_pil_image(F.erase(F.to_tensor(img),i,j,14,14,0))"
   ]
  },
  {
   "cell_type": "code",
   "execution_count": 17,
   "metadata": {},
   "outputs": [
    {
     "data": {
      "image/png": "[encoded data removed]",
      "text/plain": [
       "<PIL.Image.Image image mode=L size=28x28 at 0x7F5FBEA52F10>"
      ]
     },
     "execution_count": 17,
     "metadata": {},
     "output_type": "execute_result"
    }
   ],
   "source": [
    "erase_random_quadrant(img0)"
   ]
  },
  {
   "cell_type": "code",
   "execution_count": 18,
   "metadata": {},
   "outputs": [],
   "source": [
    "def erase_random_square(img):\n",
    "    i,j=randint(0,14),randint(0,14)\n",
    "    return F.to_pil_image(F.erase(F.to_tensor(img),i,j,14,14,0))"
   ]
  },
  {
   "cell_type": "code",
   "execution_count": 19,
   "metadata": {},
   "outputs": [
    {
     "data": {
      "image/png": "[encoded data removed]",
      "text/plain": [
       "<PIL.Image.Image image mode=L size=28x28 at 0x7F5FBE7CF250>"
      ]
     },
     "execution_count": 19,
     "metadata": {},
     "output_type": "execute_result"
    }
   ],
   "source": [
    "erase_random_square(img4)"
   ]
  },
  {
   "cell_type": "code",
   "execution_count": 20,
   "metadata": {},
   "outputs": [],
   "source": [
    "def overlay_rotated(img, img2=None, angle=90):\n",
    "    a=F.to_tensor(img)\n",
    "    b=F.to_tensor((img if img2 is None else img2).rotate(angle))\n",
    "    return F.to_pil_image(torch.clamp(a+b,0,1))"
   ]
  },
  {
   "cell_type": "code",
   "execution_count": 21,
   "metadata": {},
   "outputs": [
    {
     "data": {
      "image/png": "[encoded data removed]",
      "text/plain": [
       "<PIL.Image.Image image mode=L size=28x28 at 0x7F5FBE9FF390>"
      ]
     },
     "execution_count": 21,
     "metadata": {},
     "output_type": "execute_result"
    }
   ],
   "source": [
    "overlay_rotated(img4,img0,0)"
   ]
  },
  {
   "cell_type": "code",
   "execution_count": 22,
   "metadata": {},
   "outputs": [
    {
     "data": {
      "image/png": "[encoded data removed]",
      "text/plain": [
       "<PIL.Image.Image image mode=L size=28x28 at 0x7F5FBE9FFB90>"
      ]
     },
     "execution_count": 22,
     "metadata": {},
     "output_type": "execute_result"
    }
   ],
   "source": [
    "overlay_rotated(img4)"
   ]
  },
  {
   "cell_type": "code",
   "execution_count": 23,
   "metadata": {},
   "outputs": [],
   "source": [
    "def overlay_with_random(img,input_path,kind,digit):\n",
    "    digits=[i for i in range(10) if i!=digit]\n",
    "    img2=open_random(input_path,kind,digits)\n",
    "    return overlay_rotated(img,img2,randint(0,359))"
   ]
  },
  {
   "cell_type": "code",
   "execution_count": 24,
   "metadata": {},
   "outputs": [
    {
     "data": {
      "image/png": "[encoded data removed]",
      "text/plain": [
       "<PIL.Image.Image image mode=L size=28x28 at 0x7F5FBE9BB150>"
      ]
     },
     "execution_count": 24,
     "metadata": {},
     "output_type": "execute_result"
    }
   ],
   "source": [
    "overlay_with_random(img0,mnist_path,'training',0)"
   ]
  },
  {
   "cell_type": "code",
   "execution_count": 25,
   "metadata": {},
   "outputs": [],
   "source": [
    "def hsplice(img1,img2):\n",
    "    a=F.to_tensor(img1)[:,0:14,0:28]\n",
    "    b=F.to_tensor(img2)[:,15:28,0:28]\n",
    "    return F.to_pil_image(torch.cat([a,b],1))"
   ]
  },
  {
   "cell_type": "code",
   "execution_count": 26,
   "metadata": {},
   "outputs": [
    {
     "data": {
      "image/png": "[encoded data removed]",
      "text/plain": [
       "<PIL.Image.Image image mode=L size=28x27 at 0x7F5FBE9FFE90>"
      ]
     },
     "execution_count": 26,
     "metadata": {},
     "output_type": "execute_result"
    }
   ],
   "source": [
    "hsplice(img0,img4)"
   ]
  },
  {
   "cell_type": "code",
   "execution_count": 27,
   "metadata": {},
   "outputs": [
    {
     "data": {
      "image/png": "[encoded data removed]",
      "text/plain": [
       "<PIL.Image.Image image mode=L size=28x27 at 0x7F5FBE9FFF50>"
      ]
     },
     "execution_count": 27,
     "metadata": {},
     "output_type": "execute_result"
    }
   ],
   "source": [
    "hsplice(img4,img0)"
   ]
  },
  {
   "cell_type": "code",
   "execution_count": 28,
   "metadata": {},
   "outputs": [],
   "source": [
    "def hsplice_with_random(img,input_path,kind,digit):\n",
    "    digits=[i for i in range(10) if i!=digit]\n",
    "    imgs=[img, open_random(input_path,kind,digits)]\n",
    "    if randint(0,1): imgs.reverse()\n",
    "    return hsplice(*imgs)"
   ]
  },
  {
   "cell_type": "code",
   "execution_count": 29,
   "metadata": {},
   "outputs": [
    {
     "data": {
      "image/png": "[encoded data removed]",
      "text/plain": [
       "<PIL.Image.Image image mode=L size=28x27 at 0x7F5FBE9F8890>"
      ]
     },
     "execution_count": 29,
     "metadata": {},
     "output_type": "execute_result"
    }
   ],
   "source": [
    "hsplice_with_random(img0,mnist_path,'training',0)"
   ]
  },
  {
   "cell_type": "code",
   "execution_count": 30,
   "metadata": {},
   "outputs": [],
   "source": [
    "def flip_half(img,part='top'): # top, bottom, both\n",
    "    t=F.to_tensor(img)\n",
    "    a=t[:,0:14,0:28]\n",
    "    b=t[:,15:28,0:28]\n",
    "    if part in ['top','both']: a=a.flip([1])\n",
    "    if part in ['bottom','both']: b=b.flip([1])\n",
    "    return F.to_pil_image(torch.cat([a,b],1))"
   ]
  },
  {
   "cell_type": "code",
   "execution_count": 31,
   "metadata": {},
   "outputs": [
    {
     "data": {
      "image/png": "[encoded data removed]",
      "text/plain": [
       "<PIL.Image.Image image mode=L size=28x27 at 0x7F5FBEA03050>"
      ]
     },
     "execution_count": 31,
     "metadata": {},
     "output_type": "execute_result"
    }
   ],
   "source": [
    "flip_half(img4, 'both')"
   ]
  },
  {
   "cell_type": "code",
   "execution_count": 32,
   "metadata": {},
   "outputs": [],
   "source": [
    "def flip_half_random(img):\n",
    "    return flip_half(img,choice(['top','bottom','both']))"
   ]
  },
  {
   "cell_type": "code",
   "execution_count": 33,
   "metadata": {},
   "outputs": [
    {
     "data": {
      "image/png": "[encoded data removed]",
      "text/plain": [
       "<PIL.Image.Image image mode=L size=28x27 at 0x7F5FBEA08F50>"
      ]
     },
     "execution_count": 33,
     "metadata": {},
     "output_type": "execute_result"
    }
   ],
   "source": [
    "flip_half_random(img0)"
   ]
  },
  {
   "cell_type": "code",
   "execution_count": 34,
   "metadata": {},
   "outputs": [],
   "source": [
    "def smile(img):\n",
    "    \"convert a zero into a smiley face\"\n",
    "    t=F.to_tensor(img)\n",
    "    eye=F.to_tensor(img0.resize((8,8)))\n",
    "    eye=eye*(uniform(.75,.95)/eye.max())\n",
    "    eyes=torch.cat([eye,eye],2)\n",
    "    eyes=pad(eyes,(6,6,8,12))\n",
    "    mouth=t[:,22:28,0:28]\n",
    "    mouth=torch.cat([torch.zeros(1,17,28),mouth,torch.zeros(1,5,28)],1)\n",
    "    smiley=torch.clamp(t+eyes+mouth,0,1)\n",
    "    return F.to_pil_image(smiley)"
   ]
  },
  {
   "cell_type": "code",
   "execution_count": 35,
   "metadata": {},
   "outputs": [
    {
     "data": {
      "image/png": "[encoded data removed]",
      "text/plain": [
       "<PIL.Image.Image image mode=L size=28x28 at 0x7F5FBE9FF550>"
      ]
     },
     "execution_count": 35,
     "metadata": {},
     "output_type": "execute_result"
    }
   ],
   "source": [
    "smile(img0)"
   ]
  },
  {
   "cell_type": "markdown",
   "metadata": {},
   "source": [
    "## Create the `mnist_or_not` dataset\n",
    "\n",
    "### Start by copying MNIST to a new `mnist_or_not` folder"
   ]
  },
  {
   "cell_type": "code",
   "execution_count": 44,
   "metadata": {},
   "outputs": [],
   "source": [
    "%%nbdev_export\n",
    "def cp_mnist(kind, ds_name='mnist_or_not'):\n",
    "    p = mnist_path/kind\n",
    "    o = output_path = mnist_path.parent/f'{ds_name}/{kind}'\n",
    "    print(f'copying from {p} to {o}')\n",
    "    !cp -r -u $p/. $o"
   ]
  },
  {
   "cell_type": "code",
   "execution_count": 45,
   "metadata": {},
   "outputs": [
    {
     "name": "stdout",
     "output_type": "stream",
     "text": [
      "copying from /home/peter/.fastai/data/mnist_png/training to /home/peter/.fastai/data/mnist_or_not/training\n",
      "copying from /home/peter/.fastai/data/mnist_png/testing to /home/peter/.fastai/data/mnist_or_not/testing\n"
     ]
    }
   ],
   "source": [
    "cp_mnist('training')\n",
    "cp_mnist('testing')"
   ]
  },
  {
   "cell_type": "markdown",
   "metadata": {},
   "source": [
    "### Read MNIST images, convert to not digits, and save them to the new `mnist_or_not` folder"
   ]
  },
  {
   "cell_type": "code",
   "execution_count": 38,
   "metadata": {},
   "outputs": [],
   "source": [
    "%%nbdev_export\n",
    "def can_call_with_n_positional_args(f, n):\n",
    "    \"return true if f can be called with n positional arguments, false otherwise\"\n",
    "    def _len(l): return 0 if l is None else len(l)\n",
    "    fas = inspect.getfullargspec(f)\n",
    "    def _min(): return _len(fas.args) - _len(fas.defaults)\n",
    "    def _max(): return 99999 if fas.varargs else len(fas.args)\n",
    "    if inspect.ismethod(f): n += 1 # add one for self\n",
    "    return n >= _min() and n <= _max()"
   ]
  },
  {
   "cell_type": "code",
   "execution_count": 39,
   "metadata": {},
   "outputs": [],
   "source": [
    "%%nbdev_export\n",
    "def _create_not_digits(input_path, output_path, kind, digit, converters):\n",
    "    print('converting', kind, digit)\n",
    "    (output_path/f'{kind}/not{digit}').mkdir(parents=True, exist_ok=True)\n",
    "    for i, f in enumerate((input_path/f'{kind}/{digit}').iterdir()):\n",
    "        converter=converters[i % len(converters)]\n",
    "        output_file=output_path/f'{kind}/not{digit}/{f.name}'\n",
    "        args=[PIL.Image.open(f)]\n",
    "        if can_call_with_n_positional_args(converter,4): args=args+[input_path,kind,digit]\n",
    "        converter(*args).save(output_file)\n",
    "        \n",
    "def create_not_digits(path, digit, converters, ds_name='mnist_or_not'):\n",
    "    output_path = path.parent/ds_name\n",
    "    _create_not_digits(path, output_path, 'training', digit, converters)\n",
    "    _create_not_digits(path, output_path, 'testing', digit, converters)"
   ]
  },
  {
   "cell_type": "code",
   "execution_count": 40,
   "metadata": {},
   "outputs": [],
   "source": [
    "base_converters=[erase_random_square,hsplice_with_random,erase_random_quadrant,overlay_with_random,overlay_with_random]\n",
    "all_converters=base_converters+[rotate,rotate_180,rotate_270,overlay_rotated,F.vflip,F.hflip]\n",
    "digits_and_converters={\n",
    "    0:base_converters+[flip_half_random,smile],\n",
    "    1:base_converters+[rotate,rotate_270,overlay_rotated],\n",
    "    2:all_converters,\n",
    "    3:base_converters+[rotate,rotate_270,overlay_rotated,F.hflip],\n",
    "    4:all_converters,\n",
    "    5:all_converters,\n",
    "    6:base_converters+[rotate,rotate_270,overlay_rotated,F.hflip],\n",
    "    7:all_converters,\n",
    "    8:base_converters+[rotate,rotate_270,overlay_rotated],\n",
    "    9:base_converters+[rotate,rotate_270,overlay_rotated,F.hflip],\n",
    "}"
   ]
  },
  {
   "cell_type": "markdown",
   "metadata": {},
   "source": [
    "we could run the conversion sequentially\n",
    "```python\n",
    "for digit,converters in digits_and_converters.items():\n",
    "    create_not_digits(path,digit,converters)\n",
    "```\n",
    "but it's faster to use multiple processes (still takes a while - because we're converting one image at a time, on the CPU ...)"
   ]
  },
  {
   "cell_type": "code",
   "execution_count": 41,
   "metadata": {},
   "outputs": [
    {
     "name": "stdout",
     "output_type": "stream",
     "text": [
      "converting training 3\n",
      "converting training 4\n",
      "converting training 5\n",
      "converting training 9\n",
      "converting training 8\n",
      "converting training 7\n",
      "converting training 6\n",
      "converting training 1\n",
      "converting training 0\n",
      "converting training 2\n",
      "converting testing 5\n",
      "converting testing 2\n",
      "converting testing 9\n",
      "converting testing 4\n",
      "converting testing 7\n",
      "converting testing 6\n",
      "converting testing 3\n",
      "converting testing 8\n",
      "converting testing 1\n",
      "converting testing 0\n"
     ]
    }
   ],
   "source": [
    "from concurrent.futures import ProcessPoolExecutor\n",
    "paths,digits,converters=[],[],[]\n",
    "for _digit,_converters in digits_and_converters.items():\n",
    "    paths.append(mnist_path)\n",
    "    digits.append(_digit)\n",
    "    converters.append(_converters)\n",
    "with ProcessPoolExecutor() as executor:\n",
    "    executor.map(create_not_digits,paths,digits,converters)"
   ]
  },
  {
   "cell_type": "markdown",
   "metadata": {},
   "source": [
    "### take a quick look at some of the images in `mnist_or_not`"
   ]
  },
  {
   "cell_type": "code",
   "execution_count": 42,
   "metadata": {},
   "outputs": [
    {
     "data": {
      "image/png": "[encoded data removed]",
      "text/plain": [
       "<Figure size 1440x1440 with 25 Axes>"
      ]
     },
     "metadata": {
      "needs_background": "light"
     },
     "output_type": "display_data"
    }
   ],
   "source": [
    "from fastai.vision.data import ImageDataBunch\n",
    "data = ImageDataBunch.from_folder(mnist_path.parent/'mnist_or_not', train='training', valid='testing', size=28, bs=128)\n",
    "data.show_batch()"
   ]
  }
 ],
 "metadata": {
  "kernelspec": {
   "display_name": "Python 3",
   "language": "python",
   "name": "python3"
  },
  "language_info": {
   "codemirror_mode": {
    "name": "ipython",
    "version": 3
   },
   "file_extension": ".py",
   "mimetype": "text/x-python",
   "name": "python",
   "nbconvert_exporter": "python",
   "pygments_lexer": "ipython3",
   "version": "3.7.6"
  },
  "toc": {
   "base_numbering": 1,
   "nav_menu": {},
   "number_sections": true,
   "sideBar": true,
   "skip_h1_title": false,
   "title_cell": "Table of Contents",
   "title_sidebar": "Contents",
   "toc_cell": false,
   "toc_position": {},
   "toc_section_display": true,
   "toc_window_display": false
  }
 },
 "nbformat": 4,
 "nbformat_minor": 4
}
