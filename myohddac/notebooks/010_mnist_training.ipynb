{
 "cells": [
  {
   "cell_type": "markdown",
   "metadata": {},
   "source": [
    "# Train a small MNIST classifier that can be used by the Starlette app to make predictions.\n",
    "\n",
    "The 1st version of this notebook used a resnet34 - the model used now is nearly 500 times smaller (resnet34 total params: 21,817,674 vs current model total params: 44,518).\n",
    "\n",
    "Hopefully, this notebook is also a pretty simple example of building your own pytorch model and training it with fastai."
   ]
  },
  {
   "cell_type": "code",
   "execution_count": 1,
   "metadata": {},
   "outputs": [],
   "source": [
    "%reload_ext autoreload\n",
    "%autoreload 2\n",
    "%matplotlib inline\n",
    "from nbdev_quick import *\n",
    "nbdev_quick.init()"
   ]
  },
  {
   "cell_type": "code",
   "execution_count": 2,
   "metadata": {},
   "outputs": [],
   "source": [
    "%%nbdev_export\n",
    "mnist_path=untar_data(URLs.MNIST)"
   ]
  },
  {
   "cell_type": "code",
   "execution_count": 3,
   "metadata": {},
   "outputs": [],
   "source": [
    "%%nbdev_export\n",
    "def mnist_data(stats=None,flip_t_and_v=False):\n",
    "    tfms = get_transforms(do_flip=False)\n",
    "    t_and_v = ['training','testing']\n",
    "    if flip_t_and_v: t_and_v.reverse()\n",
    "    db = ImageDataBunch.from_folder(\n",
    "        mnist_path, train=t_and_v[0], valid=t_and_v[1], ds_tfms=tfms, size=28, bs=128)\n",
    "    db.normalize() if stats is None else db.normalize(stats)\n",
    "    return db"
   ]
  },
  {
   "cell_type": "markdown",
   "metadata": {},
   "source": [
    "TODO: try `tfms = ([*rand_pad(padding=3, size=28, mode='zeros')], [])` from course-v3/nbs/dl1/lesson7-resnet-mnist.ipynb"
   ]
  },
  {
   "cell_type": "code",
   "execution_count": 4,
   "metadata": {},
   "outputs": [
    {
     "data": {
      "text/plain": [
       "ImageDataBunch;\n",
       "\n",
       "Train: LabelList (60000 items)\n",
       "x: ImageList\n",
       "Image (3, 28, 28),Image (3, 28, 28),Image (3, 28, 28),Image (3, 28, 28),Image (3, 28, 28)\n",
       "y: CategoryList\n",
       "0,0,0,0,0\n",
       "Path: /home/peter/.fastai/data/mnist_png;\n",
       "\n",
       "Valid: LabelList (10000 items)\n",
       "x: ImageList\n",
       "Image (3, 28, 28),Image (3, 28, 28),Image (3, 28, 28),Image (3, 28, 28),Image (3, 28, 28)\n",
       "y: CategoryList\n",
       "0,0,0,0,0\n",
       "Path: /home/peter/.fastai/data/mnist_png;\n",
       "\n",
       "Test: None"
      ]
     },
     "execution_count": 4,
     "metadata": {},
     "output_type": "execute_result"
    }
   ],
   "source": [
    "data=mnist_data(); data"
   ]
  },
  {
   "cell_type": "markdown",
   "metadata": {},
   "source": [
    "### Model notes\n",
    "- we're trying to build the most accurate classifier possible with a couple of constraints;\n",
    "    - we can train for just 1 epoch\n",
    "    - the model must be small - try for less than 100k tranable params\n",
    "- downsampling with a stride 2 conv ~doubles model size and reduces accuracy a little\n"
   ]
  },
  {
   "cell_type": "code",
   "execution_count": 5,
   "metadata": {},
   "outputs": [],
   "source": [
    "%%nbdev_export\n",
    "def conv_block(in_channels, out_channels, padding=1):\n",
    "    return nn.Sequential(\n",
    "        nn.Conv2d(in_channels, out_channels, 3, padding=padding),\n",
    "        nn.ReLU(),\n",
    "        nn.MaxPool2d((2,2)))\n",
    "\n",
    "def fc_block(in_features, out_features):\n",
    "    return nn.Sequential(\n",
    "        nn.Linear(in_features, out_features),\n",
    "        nn.ReLU())\n",
    "\n",
    "def new_model(c_out=10):\n",
    "    return nn.Sequential(\n",
    "        conv_block(3, 32, padding=2),\n",
    "        conv_block(32, 32),\n",
    "        conv_block(32, 32),\n",
    "        nn.Flatten(),\n",
    "        fc_block(288, 84),\n",
    "        nn.Linear(84, c_out))"
   ]
  },
  {
   "cell_type": "markdown",
   "metadata": {},
   "source": [
    "If you'd like to play around with resnets, replace the cell below with something like;\n",
    "\n",
    "`learn = cnn_learner(data, models.resnet34, metrics=accuracy)`"
   ]
  },
  {
   "cell_type": "code",
   "execution_count": 6,
   "metadata": {},
   "outputs": [],
   "source": [
    "learn = Learner(data, new_model(), metrics=accuracy)"
   ]
  },
  {
   "cell_type": "code",
   "execution_count": 7,
   "metadata": {},
   "outputs": [
    {
     "data": {
      "text/plain": [
       "Sequential\n",
       "======================================================================\n",
       "Layer (type)         Output Shape         Param #    Trainable \n",
       "======================================================================\n",
       "Conv2d               [32, 30, 30]         896        True      \n",
       "______________________________________________________________________\n",
       "ReLU                 [32, 30, 30]         0          False     \n",
       "______________________________________________________________________\n",
       "MaxPool2d            [32, 15, 15]         0          False     \n",
       "______________________________________________________________________\n",
       "Conv2d               [32, 15, 15]         9,248      True      \n",
       "______________________________________________________________________\n",
       "ReLU                 [32, 15, 15]         0          False     \n",
       "______________________________________________________________________\n",
       "MaxPool2d            [32, 7, 7]           0          False     \n",
       "______________________________________________________________________\n",
       "Conv2d               [32, 7, 7]           9,248      True      \n",
       "______________________________________________________________________\n",
       "ReLU                 [32, 7, 7]           0          False     \n",
       "______________________________________________________________________\n",
       "MaxPool2d            [32, 3, 3]           0          False     \n",
       "______________________________________________________________________\n",
       "Flatten              [288]                0          False     \n",
       "______________________________________________________________________\n",
       "Linear               [84]                 24,276     True      \n",
       "______________________________________________________________________\n",
       "ReLU                 [84]                 0          False     \n",
       "______________________________________________________________________\n",
       "Linear               [10]                 850        True      \n",
       "______________________________________________________________________\n",
       "\n",
       "Total params: 44,518\n",
       "Total trainable params: 44,518\n",
       "Total non-trainable params: 0\n",
       "Optimized with 'torch.optim.adam.Adam', betas=(0.9, 0.99)\n",
       "Using true weight decay as discussed in https://www.fast.ai/2018/07/02/adam-weight-decay/ \n",
       "Loss function : FlattenedLoss\n",
       "======================================================================\n",
       "Callbacks functions applied "
      ]
     },
     "execution_count": 7,
     "metadata": {},
     "output_type": "execute_result"
    }
   ],
   "source": [
    "learn.summary() # Loss function: FlattenedLoss of CrossEntropyLoss()"
   ]
  },
  {
   "cell_type": "code",
   "execution_count": 8,
   "metadata": {},
   "outputs": [
    {
     "data": {
      "text/html": [
       "\n",
       "    <div>\n",
       "        <style>\n",
       "            /* Turns off some styling */\n",
       "            progress {\n",
       "                /* gets rid of default border in Firefox and Opera. */\n",
       "                border: none;\n",
       "                /* Needs to be in here for Safari polyfill so background images work as expected. */\n",
       "                background-size: auto;\n",
       "            }\n",
       "            .progress-bar-interrupted, .progress-bar-interrupted::-webkit-progress-bar {\n",
       "                background: #F44336;\n",
       "            }\n",
       "        </style>\n",
       "      <progress value='0' class='' max='1', style='width:300px; height:20px; vertical-align: middle;'></progress>\n",
       "      0.00% [0/1 00:00<00:00]\n",
       "    </div>\n",
       "    \n",
       "<table border=\"1\" class=\"dataframe\">\n",
       "  <thead>\n",
       "    <tr style=\"text-align: left;\">\n",
       "      <th>epoch</th>\n",
       "      <th>train_loss</th>\n",
       "      <th>valid_loss</th>\n",
       "      <th>accuracy</th>\n",
       "      <th>time</th>\n",
       "    </tr>\n",
       "  </thead>\n",
       "  <tbody>\n",
       "  </tbody>\n",
       "</table><p>\n",
       "\n",
       "    <div>\n",
       "        <style>\n",
       "            /* Turns off some styling */\n",
       "            progress {\n",
       "                /* gets rid of default border in Firefox and Opera. */\n",
       "                border: none;\n",
       "                /* Needs to be in here for Safari polyfill so background images work as expected. */\n",
       "                background-size: auto;\n",
       "            }\n",
       "            .progress-bar-interrupted, .progress-bar-interrupted::-webkit-progress-bar {\n",
       "                background: #F44336;\n",
       "            }\n",
       "        </style>\n",
       "      <progress value='82' class='' max='468', style='width:300px; height:20px; vertical-align: middle;'></progress>\n",
       "      17.52% [82/468 00:02<00:09 2.3226]\n",
       "    </div>\n",
       "    "
      ],
      "text/plain": [
       "<IPython.core.display.HTML object>"
      ]
     },
     "metadata": {},
     "output_type": "display_data"
    },
    {
     "name": "stdout",
     "output_type": "stream",
     "text": [
      "LR Finder is complete, type {learner_name}.recorder.plot() to see the graph.\n"
     ]
    },
    {
     "data": {
      "image/png": "[encoded data removed]",
      "text/plain": [
       "<Figure size 432x288 with 1 Axes>"
      ]
     },
     "metadata": {
      "needs_background": "light"
     },
     "output_type": "display_data"
    }
   ],
   "source": [
    "learn.lr_find()\n",
    "learn.recorder.plot()"
   ]
  },
  {
   "cell_type": "code",
   "execution_count": 9,
   "metadata": {},
   "outputs": [
    {
     "data": {
      "text/html": [
       "<table border=\"1\" class=\"dataframe\">\n",
       "  <thead>\n",
       "    <tr style=\"text-align: left;\">\n",
       "      <th>epoch</th>\n",
       "      <th>train_loss</th>\n",
       "      <th>valid_loss</th>\n",
       "      <th>accuracy</th>\n",
       "      <th>time</th>\n",
       "    </tr>\n",
       "  </thead>\n",
       "  <tbody>\n",
       "    <tr>\n",
       "      <td>0</td>\n",
       "      <td>0.071446</td>\n",
       "      <td>0.026300</td>\n",
       "      <td>0.991400</td>\n",
       "      <td>00:10</td>\n",
       "    </tr>\n",
       "  </tbody>\n",
       "</table>"
      ],
      "text/plain": [
       "<IPython.core.display.HTML object>"
      ]
     },
     "metadata": {},
     "output_type": "display_data"
    }
   ],
   "source": [
    "learn.fit_one_cycle(1, 1e-2)"
   ]
  },
  {
   "cell_type": "markdown",
   "metadata": {},
   "source": [
    "## Take a look at what the trained model gets wrong"
   ]
  },
  {
   "cell_type": "code",
   "execution_count": 10,
   "metadata": {},
   "outputs": [
    {
     "data": {
      "text/html": [],
      "text/plain": [
       "<IPython.core.display.HTML object>"
      ]
     },
     "metadata": {},
     "output_type": "display_data"
    },
    {
     "data": {
      "image/png": "[encoded data removed]",
      "text/plain": [
       "<Figure size 576x576 with 9 Axes>"
      ]
     },
     "metadata": {
      "needs_background": "light"
     },
     "output_type": "display_data"
    }
   ],
   "source": [
    "interp = ClassificationInterpretation.from_learner(learn)\n",
    "interp.plot_top_losses(9, figsize=(8,8))"
   ]
  },
  {
   "cell_type": "code",
   "execution_count": 11,
   "metadata": {},
   "outputs": [
    {
     "data": {
      "image/png": "[encoded data removed]",
      "text/plain": [
       "<Figure size 432x288 with 1 Axes>"
      ]
     },
     "metadata": {
      "needs_background": "light"
     },
     "output_type": "display_data"
    }
   ],
   "source": [
    "interp.plot_confusion_matrix()"
   ]
  },
  {
   "cell_type": "markdown",
   "metadata": {},
   "source": [
    "### See if the model is consistently accurate across classes \n",
    "\n",
    "it isn't ... no problem for what we're doing here - but this could be significant in the real world."
   ]
  },
  {
   "cell_type": "code",
   "execution_count": 12,
   "metadata": {},
   "outputs": [],
   "source": [
    "# default set of functions that can calculate rates from a confusion matrix\n",
    "default_cm_rate_fns = {\n",
    "    'accuracy': lambda total,tp,tn,fp,fn: (tp+tn)/total, \n",
    "    'sensitiviy/recall': lambda total,tp,tn,fp,fn: tp/(tp+fn), \n",
    "    'specificity': lambda total,tp,tn,fp,fn: tn/(tn+fp), \n",
    "    'precision': lambda total,tp,tn,fp,fn: tp/(tp+fp)\n",
    "}"
   ]
  },
  {
   "cell_type": "code",
   "execution_count": 13,
   "metadata": {},
   "outputs": [
    {
     "data": {
      "image/png": "[encoded data removed]",
      "text/plain": [
       "<Figure size 432x288 with 1 Axes>"
      ]
     },
     "metadata": {
      "needs_background": "light"
     },
     "output_type": "display_data"
    }
   ],
   "source": [
    "def cm_rates(interp: ClassificationInterpretation, cm_rate_fns=default_cm_rate_fns):\n",
    "    \"calculate rates for all functions in `cm_rate_fns`\"\n",
    "    d=[]\n",
    "    cm=interp.confusion_matrix()\n",
    "    total=cm.sum()\n",
    "    for i, cls in enumerate(interp.data.classes):\n",
    "        tp=cm[i][i]\n",
    "        fn=cm[i].sum()-tp\n",
    "        fp=cm[:,i].sum()-tp\n",
    "        tn=total-tp-fn-fp\n",
    "        d.append([cls]+[f(total,tp,tn,fp,fn) for f in cm_rate_fns.values()])\n",
    "    return pd.DataFrame(d, columns=['Class']+list(cm_rate_fns.keys()))\n",
    "\n",
    "cm_rates(interp).plot.bar(ylim=(.975,1.01)); plt.legend(ncol=2); plt.xlabel('Classes');"
   ]
  },
  {
   "cell_type": "markdown",
   "metadata": {},
   "source": [
    "## Save everything needed to make predictions"
   ]
  },
  {
   "cell_type": "code",
   "execution_count": 14,
   "metadata": {},
   "outputs": [],
   "source": [
    "%%nbdev_export\n",
    "def save(name,learn,data):\n",
    "    learn.save(f'{name}-learn')\n",
    "    # export the model for inference\n",
    "    learn_export_file_name = f'{name}-learn-export.pkl'\n",
    "    learn.export(learn_export_file_name)\n",
    "    # Export the minimal state of the data bunch for inference \n",
    "    data_export_file_name = f'{name}-data-export.pkl'\n",
    "    data.export(data_export_file_name)\n",
    "    here = Path('.')\n",
    "    # copy the export files from fastai default to here\n",
    "    for file_name in [learn_export_file_name, data_export_file_name]:\n",
    "        shutil.copyfile(learn.path/file_name, here/file_name)\n",
    "    return learn_export_file_name,data_export_file_name"
   ]
  },
  {
   "cell_type": "code",
   "execution_count": 15,
   "metadata": {},
   "outputs": [
    {
     "data": {
      "text/plain": [
       "('mnist-learn-export.pkl', 'mnist-data-export.pkl')"
      ]
     },
     "execution_count": 15,
     "metadata": {},
     "output_type": "execute_result"
    }
   ],
   "source": [
    "save('mnist',learn,data)"
   ]
  }
 ],
 "metadata": {
  "kernelspec": {
   "display_name": "Python 3",
   "language": "python",
   "name": "python3"
  },
  "language_info": {
   "codemirror_mode": {
    "name": "ipython",
    "version": 3
   },
   "file_extension": ".py",
   "mimetype": "text/x-python",
   "name": "python",
   "nbconvert_exporter": "python",
   "pygments_lexer": "ipython3",
   "version": "3.7.6"
  },
  "toc": {
   "base_numbering": 1,
   "nav_menu": {
    "height": "318px",
    "width": "558px"
   },
   "number_sections": true,
   "sideBar": true,
   "skip_h1_title": false,
   "title_cell": "Table of Contents",
   "title_sidebar": "Contents",
   "toc_cell": false,
   "toc_position": {},
   "toc_section_display": true,
   "toc_window_display": false
  }
 },
 "nbformat": 4,
 "nbformat_minor": 2
}
