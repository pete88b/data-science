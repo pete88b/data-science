{
 "cells": [
  {
   "cell_type": "markdown",
   "metadata": {},
   "source": [
    "# Explore ways of using machine learning to fit curves\n",
    "\n",
    "The goal of this notebook is to create functions that can approximate y for a given x.\n",
    "\n",
    "Inspired by SGD from scratch https://course.fast.ai/videos/?lesson=2 I wanted to find a single approach that would work for many different kinds of curves - i.e. I didn't want to have a linear model and a quadratic model ...\n",
    "\n",
    "So far, I've tried\n",
    "- A neural network (fastai tabular_learner)\n",
    "    - which is, of course, easy to do and works really well\n",
    "- A manual model that uses multiple relu(wx+b) calculations to predict y given x\n",
    "    - this is just a learning excersize for me - to make something work without a library like pytorch or fastai\n",
    "    \n",
    "Note: I run this notebook on a GCP VM, set-up with instructions from https://course.fast.ai/index.html"
   ]
  },
  {
   "cell_type": "code",
   "execution_count": 1,
   "metadata": {},
   "outputs": [],
   "source": [
    "%reload_ext autoreload\n",
    "%autoreload 2\n",
    "from fastai.tabular import *\n",
    "# used by fastai to save models etc - make sure this is set for your environment\n",
    "path = Path('/home/jupyter/my-nbs')"
   ]
  },
  {
   "cell_type": "markdown",
   "metadata": {},
   "source": [
    "## Data set-up\n",
    "\n",
    "Start by creating a couple of pandas data frames (train_df and test_def) with 2 columns each;\n",
    "- x the continuous variable (i.e. the input)\n",
    "- y the dependent variable (i.e. the thing we need to learn)"
   ]
  },
  {
   "cell_type": "code",
   "execution_count": 2,
   "metadata": {},
   "outputs": [],
   "source": [
    "# create a dict of functions to make it easy to pick a function in the next cell\n",
    "# these functions are used to generate training and test data - i.e. create an x-y curve to learn\n",
    "# we should be able to use any function that has single numeric input and output values\n",
    "functions = {\n",
    "    'quartic': lambda x : x**4 + x**3 - 6*x**2 + x + 2,\n",
    "    'cubic': lambda x : 5*x**3 - x**2 - 20*x + 3,\n",
    "    'quadratic': lambda x : x**2 - 0.2*x - 3,\n",
    "    'linear': lambda x : 0.25*x + 0.15,\n",
    "}"
   ]
  },
  {
   "cell_type": "code",
   "execution_count": 3,
   "metadata": {},
   "outputs": [
    {
     "name": "stdout",
     "output_type": "stream",
     "text": [
      "         0       1        2       3       4\n",
      "x   -3.500   -3.40   -3.300   -3.20  -3.100\n",
      "y -153.625 -137.08 -121.575 -107.08 -93.565\n"
     ]
    },
    {
     "data": {
      "text/plain": [
       "<matplotlib.axes._subplots.AxesSubplot at 0x7f3a8d413ef0>"
      ]
     },
     "execution_count": 3,
     "metadata": {},
     "output_type": "execute_result"
    },
    {
     "data": {
      "image/png": "[encoded data removed]",
      "text/plain": [
       "<Figure size 432x288 with 1 Axes>"
      ]
     },
     "metadata": {
      "needs_background": "light"
     },
     "output_type": "display_data"
    }
   ],
   "source": [
    "# set the range of the x axis\n",
    "x_range = (-3.5, 3.5)\n",
    "# pick a function to learn\n",
    "f = functions['cubic']\n",
    "\n",
    "def new_data_frame(step):\n",
    "    \"\"\"\n",
    "    Create a new pandas data frame with x and y columns.\n",
    "    Values in x will cover x_range using the specified step.\n",
    "    Values in y are calculated by running the function we picked on x.\n",
    "    \"\"\"\n",
    "    X = np.arange(x_range[0], x_range[1], step)\n",
    "    Y = [f(x) for x in X]\n",
    "    return pd.DataFrame({'x': X, 'y': Y})\n",
    "\n",
    "# create a data frame of training data\n",
    "train_df = new_data_frame(step=0.1)\n",
    "# create a data frame of test data - using a different step so that not all data points in test are in train\n",
    "test_df = new_data_frame(step=0.15)\n",
    "\n",
    "# print the 1st 5 rows of the training data frame - using .T to transpose uses less vertical space in the output\n",
    "print(train_df.head().T)\n",
    "# plot the training data\n",
    "train_df.plot(x='x', y='y')"
   ]
  },
  {
   "cell_type": "markdown",
   "metadata": {},
   "source": [
    "## Set-up and train a fastai model"
   ]
  },
  {
   "cell_type": "code",
   "execution_count": 4,
   "metadata": {},
   "outputs": [],
   "source": [
    "# we're using unusually small amounts of data, especially for validation - but it works OK for these experiments\n",
    "data = (TabularList.from_df(train_df, path=path, cont_names=['x'], procs=[Normalize])\n",
    "                .split_by_idx(range(0, len(train_df), 13))\n",
    "                .label_from_df(cols='y', label_cls=FloatList)\n",
    "                .add_test(TabularList.from_df(test_df, path=path, cont_names=['x']))\n",
    "                .databunch())"
   ]
  },
  {
   "cell_type": "code",
   "execution_count": 5,
   "metadata": {},
   "outputs": [
    {
     "name": "stdout",
     "output_type": "stream",
     "text": [
      "tensor([-230.4375,  179.9400], device='cuda:0')\n"
     ]
    }
   ],
   "source": [
    "# use a y range that is a bit wider than the y range in the training data\n",
    "max_y = train_df['y'].max()\n",
    "max_y *= 1.5 if max_y > 0 else 0.5\n",
    "min_y = train_df['y'].min() \n",
    "min_y *= 1.5 if min_y < 0 else 0.5\n",
    "y_range = torch.tensor([min_y, max_y], device=defaults.device)\n",
    "print(y_range)"
   ]
  },
  {
   "cell_type": "code",
   "execution_count": 6,
   "metadata": {},
   "outputs": [],
   "source": [
    "learn = tabular_learner(data, layers=[1000,500], ps=[0.001,0.01], emb_drop=0.04, y_range=y_range, metrics=mse)"
   ]
  },
  {
   "cell_type": "code",
   "execution_count": 7,
   "metadata": {},
   "outputs": [
    {
     "data": {
      "text/html": [],
      "text/plain": [
       "<IPython.core.display.HTML object>"
      ]
     },
     "metadata": {},
     "output_type": "display_data"
    },
    {
     "name": "stdout",
     "output_type": "stream",
     "text": [
      "LR Finder is complete, type {learner_name}.recorder.plot() to see the graph.\n"
     ]
    },
    {
     "data": {
      "image/png": "[encoded data removed]",
      "text/plain": [
       "<Figure size 432x288 with 1 Axes>"
      ]
     },
     "metadata": {
      "needs_background": "light"
     },
     "output_type": "display_data"
    }
   ],
   "source": [
    "# lr_find usually tells us that 1e-5 would be a good learning rate\n",
    "learn.lr_find()\n",
    "learn.recorder.plot()"
   ]
  },
  {
   "cell_type": "code",
   "execution_count": 16,
   "metadata": {},
   "outputs": [
    {
     "data": {
      "text/html": [
       "<table border=\"1\" class=\"dataframe\">\n",
       "  <thead>\n",
       "    <tr style=\"text-align: left;\">\n",
       "      <th>epoch</th>\n",
       "      <th>train_loss</th>\n",
       "      <th>valid_loss</th>\n",
       "      <th>mean_squared_error</th>\n",
       "      <th>time</th>\n",
       "    </tr>\n",
       "  </thead>\n",
       "  <tbody>\n",
       "    <tr>\n",
       "      <td>0</td>\n",
       "      <td>9.149093</td>\n",
       "      <td>165.783295</td>\n",
       "      <td>165.783295</td>\n",
       "      <td>00:00</td>\n",
       "    </tr>\n",
       "    <tr>\n",
       "      <td>1</td>\n",
       "      <td>10.842209</td>\n",
       "      <td>187.325058</td>\n",
       "      <td>187.325058</td>\n",
       "      <td>00:00</td>\n",
       "    </tr>\n",
       "    <tr>\n",
       "      <td>2</td>\n",
       "      <td>14.068985</td>\n",
       "      <td>154.233841</td>\n",
       "      <td>154.233841</td>\n",
       "      <td>00:00</td>\n",
       "    </tr>\n",
       "    <tr>\n",
       "      <td>3</td>\n",
       "      <td>12.507102</td>\n",
       "      <td>138.292877</td>\n",
       "      <td>138.292877</td>\n",
       "      <td>00:00</td>\n",
       "    </tr>\n",
       "    <tr>\n",
       "      <td>4</td>\n",
       "      <td>12.329984</td>\n",
       "      <td>125.725708</td>\n",
       "      <td>125.725708</td>\n",
       "      <td>00:00</td>\n",
       "    </tr>\n",
       "  </tbody>\n",
       "</table>"
      ],
      "text/plain": [
       "<IPython.core.display.HTML object>"
      ]
     },
     "metadata": {},
     "output_type": "display_data"
    }
   ],
   "source": [
    "# we kind of ignore lr_find and use a higher learning rate - to train faster.\n",
    "# we don't need to worry about overfitting, so high lr is OK and we probably don't need any weight decay either.\n",
    "\n",
    "# 75 epochs gets quadratic pretty close\n",
    "# 150 epochs gets quartic pretty close\n",
    "learn.fit_one_cycle(5, 1e-03, wd=0.001)"
   ]
  },
  {
   "cell_type": "code",
   "execution_count": 17,
   "metadata": {},
   "outputs": [
    {
     "data": {
      "image/png": "[encoded data removed]",
      "text/plain": [
       "<Figure size 432x288 with 1 Axes>"
      ]
     },
     "metadata": {
      "needs_background": "light"
     },
     "output_type": "display_data"
    }
   ],
   "source": [
    "# get predictions from our model using the test data set\n",
    "predictions, labels = learn.get_preds(DatasetType.Test)\n",
    "plt.plot(test_df['x'], test_df['y'])\n",
    "plt.plot(test_df['x'], predictions.squeeze()) # TODO: why do we need to squeeze? is this getting 1 batch of predictions\n",
    "plt.show()"
   ]
  },
  {
   "cell_type": "markdown",
   "metadata": {},
   "source": [
    "If you see flat lines at y min or max in the above prediction, try making the y range wider"
   ]
  },
  {
   "cell_type": "markdown",
   "metadata": {},
   "source": [
    "# Set-up and train a \"manual\" model"
   ]
  },
  {
   "cell_type": "code",
   "execution_count": 12,
   "metadata": {},
   "outputs": [],
   "source": [
    "class BasicLearner:\n",
    "    \"\"\"\n",
    "    A learner that uses multiple relu(wx+b) calculations to predict y given x.\n",
    "    \"\"\"\n",
    "    def __init__(self, train_df, number_of_weights):\n",
    "        \"\"\"\n",
    "        Set-up the weights and biases with zeros, rather than the more standard random values,\n",
    "        then save a reference to the training data.\n",
    "        \"\"\"\n",
    "        self.weights = np.zeros(number_of_weights)\n",
    "        self.biases = np.zeros(number_of_weights)\n",
    "        self.train_df = train_df\n",
    "        \n",
    "    def mse(self, predicted_values, actual_values):\n",
    "        \"\"\"\n",
    "        Simple mean squared error which compares a list of predicted values with a list of target values.\n",
    "        \"\"\"\n",
    "        result = 0;\n",
    "        for predicted_value, actual_value in zip(predicted_values, actual_values):\n",
    "            result += (predicted_value - actual_value)**2\n",
    "        return result / len(actual_values)\n",
    "        \n",
    "    def predict(self):\n",
    "        \"\"\"\n",
    "        Return a list of predicted values for this learner - using weights, biases and train data.\n",
    "        \"\"\"\n",
    "        predicted_values = []\n",
    "        for x in self.train_df['x']:\n",
    "            predicted_value = 0\n",
    "            # for each x value, give every weight and bias a chance to contribute to the prediction\n",
    "            for i, weight in enumerate(self.weights):\n",
    "                # this is just relu(wx+b)\n",
    "                next_bit = max(0, weight*x + self.biases[i])\n",
    "                # alternate between adding and subtracting the next bit\n",
    "                # doen't feel quite right - but without it, we can't curve in both directions\n",
    "                if (i%2 == 0):\n",
    "                    predicted_value += next_bit\n",
    "                else:\n",
    "                    predicted_value -= next_bit\n",
    "            predicted_values.append(predicted_value)\n",
    "        return predicted_values\n",
    "    \n",
    "    def loss(self):\n",
    "        \"\"\"\n",
    "        Calculate the current loss on this learner - using weights, biases and train data.\n",
    "        \"\"\"\n",
    "        return self.mse(self.predict(), train_df['y'])\n",
    "    \n",
    "    def update_parameter(self, i, lr, parameters, current_loss):\n",
    "        \"\"\"\n",
    "        Increase or decrease a single parameter - only if the change reduces the loss.\n",
    "        Note: we're not using gradient descent - we just update a param and see how the loss changes.\n",
    "        \"\"\"\n",
    "        # save the value of the paramter that we might change\n",
    "        parameter = parameters[i]\n",
    "        # work out how much to change the parameter by\n",
    "        # limit the max change we'll make to a param - this affects params with large values\n",
    "        parameter_change = max(lr / 3, parameter * lr)\n",
    "        # try increasing the parameter value\n",
    "        parameters[i] += parameter_change\n",
    "        next_loss = self.loss()\n",
    "        if next_loss < current_loss:\n",
    "            # if increasing this param reduced the loss, we are done\n",
    "            return next_loss\n",
    "        # try decreasing the parameter value\n",
    "        parameters[i] -= parameter_change * 2\n",
    "        next_loss = self.loss()\n",
    "        if next_loss < current_loss:\n",
    "            # if decreasing this param reduced the loss, we are done\n",
    "            return next_loss\n",
    "        # changing this parameter did not reduce the loss - put it back to its initial value\n",
    "        parameters[i] = parameter\n",
    "        return current_loss\n",
    "    \n",
    "    def learn(self, epochs, lr):\n",
    "        \"\"\"\n",
    "        This is the learning loop.\n",
    "        \"\"\"\n",
    "        for epoch in range(epochs):\n",
    "            # calculate the loss at the start of each epoch\n",
    "            pre_epoch_loss = self.loss()\n",
    "            # and use this as our current loss\n",
    "            current_loss = pre_epoch_loss\n",
    "            for i, weight in enumerate(self.weights):\n",
    "                # try updating each weight/bias \n",
    "                current_loss = self.update_parameter(i, lr, self.weights, current_loss)\n",
    "                current_loss = self.update_parameter(i, lr, self.biases, current_loss)\n",
    "            print('end of epoch', epoch, 'pre_epoch_loss', pre_epoch_loss, 'current_loss', current_loss)\n",
    "            if pre_epoch_loss <= current_loss + (lr / 5):\n",
    "                print('stopping early. current_loss is not much less than pre_epoch_loss')\n",
    "                break"
   ]
  },
  {
   "cell_type": "code",
   "execution_count": 13,
   "metadata": {},
   "outputs": [
    {
     "name": "stdout",
     "output_type": "stream",
     "text": [
      "end of epoch 0 pre_epoch_loss 2260.0206639285843 current_loss 1084.4040925000045\n",
      "end of epoch 1 pre_epoch_loss 1084.4040925000045 current_loss 776.9133210714332\n",
      "end of epoch 2 pre_epoch_loss 776.9133210714332 current_loss 663.9246639285759\n",
      "end of epoch 3 pre_epoch_loss 663.9246639285759 current_loss 583.9594210714329\n",
      "end of epoch 4 pre_epoch_loss 583.9594210714329 current_loss 505.67397821428966\n",
      "end of epoch 5 pre_epoch_loss 505.67397821428966 current_loss 439.7736353571466\n",
      "end of epoch 6 pre_epoch_loss 439.7736353571466 current_loss 395.4631925000038\n",
      "end of epoch 7 pre_epoch_loss 395.4631925000038 current_loss 347.5969210714321\n",
      "end of epoch 8 pre_epoch_loss 347.5969210714321 current_loss 304.92222107143135\n",
      "end of epoch 9 pre_epoch_loss 304.92222107143135 current_loss 263.8818353571455\n",
      "end of epoch 10 pre_epoch_loss 263.8818353571455 current_loss 215.05836392857407\n",
      "end of epoch 11 pre_epoch_loss 215.05836392857407 current_loss 197.7066639285741\n",
      "end of epoch 12 pre_epoch_loss 197.7066639285741 current_loss 186.46209250000265\n",
      "end of epoch 13 pre_epoch_loss 186.46209250000265 current_loss 181.80337821428833\n",
      "end of epoch 14 pre_epoch_loss 181.80337821428833 current_loss 177.97797821428838\n",
      "end of epoch 15 pre_epoch_loss 177.97797821428838 current_loss 176.31340678571695\n",
      "end of epoch 16 pre_epoch_loss 176.31340678571695 current_loss 176.31340678571695\n",
      "stopping early. current_loss is not much less than pre_epoch_loss\n",
      "[  4.  -7.   4.  -6.   4.  -6. -11.  -1.   1. -10.   4.  -1.   4. -10.   4.  -8.   4.  -7.   1.  -7.   1.  -6.   1.\n",
      "  -6.   1.  -6.   1.  -6.   1.  -5.   1.  -4.]\n",
      "[ -6. -14.  -6. -13.  -6. -12.   4.   4.   4. -15.  -6.   4.  -6. -15.  -6. -14.  -6. -13.  -2. -12.  -2. -12.  -2.\n",
      " -12.  -2. -11.  -2. -12.  -2. -10.  -2.  -9.]\n"
     ]
    },
    {
     "data": {
      "image/png": "[encoded data removed]",
      "text/plain": [
       "<Figure size 432x288 with 1 Axes>"
      ]
     },
     "metadata": {
      "needs_background": "light"
     },
     "output_type": "display_data"
    },
    {
     "name": "stdout",
     "output_type": "stream",
     "text": [
      "end of epoch 0 pre_epoch_loss 176.31340678571695 current_loss 159.23322678571606\n",
      "end of epoch 1 pre_epoch_loss 159.23322678571606 current_loss 144.99603055714465\n",
      "end of epoch 2 pre_epoch_loss 144.99603055714465 current_loss 134.4705650714304\n",
      "end of epoch 3 pre_epoch_loss 134.4705650714304 current_loss 123.79421168914457\n",
      "end of epoch 4 pre_epoch_loss 123.79421168914457 current_loss 119.83134489085883\n",
      "end of epoch 5 pre_epoch_loss 119.83134489085883 current_loss 115.6634942251445\n",
      "end of epoch 6 pre_epoch_loss 115.6634942251445 current_loss 111.40777640342299\n",
      "end of epoch 7 pre_epoch_loss 111.40777640342299 current_loss 107.73849994556576\n",
      "end of epoch 8 pre_epoch_loss 107.73849994556576 current_loss 103.96975185345151\n",
      "end of epoch 9 pre_epoch_loss 103.96975185345151 current_loss 101.26717971679439\n",
      "end of epoch 10 pre_epoch_loss 101.26717971679439 current_loss 97.9320633388515\n",
      "end of epoch 11 pre_epoch_loss 97.9320633388515 current_loss 95.40141021554433\n",
      "end of epoch 12 pre_epoch_loss 95.40141021554433 current_loss 92.92751271258858\n",
      "end of epoch 13 pre_epoch_loss 92.92751271258858 current_loss 90.51487404994425\n",
      "end of epoch 14 pre_epoch_loss 90.51487404994425 current_loss 87.39807217945852\n",
      "end of epoch 15 pre_epoch_loss 87.39807217945852 current_loss 85.05361932033705\n",
      "end of epoch 16 pre_epoch_loss 85.05361932033705 current_loss 83.14416036559437\n",
      "end of epoch 17 pre_epoch_loss 83.14416036559437 current_loss 79.37026884884422\n",
      "end of epoch 18 pre_epoch_loss 79.37026884884422 current_loss 77.80651179252001\n",
      "end of epoch 19 pre_epoch_loss 77.80651179252001 current_loss 74.27507607203414\n",
      "end of epoch 20 pre_epoch_loss 74.27507607203414 current_loss 72.17708910069403\n",
      "end of epoch 21 pre_epoch_loss 72.17708910069403 current_loss 70.46731233783707\n",
      "end of epoch 22 pre_epoch_loss 70.46731233783707 current_loss 68.76511675266693\n",
      "end of epoch 23 pre_epoch_loss 68.76511675266693 current_loss 66.98122587715291\n",
      "end of epoch 24 pre_epoch_loss 66.98122587715291 current_loss 64.62963234899688\n",
      "end of epoch 25 pre_epoch_loss 64.62963234899688 current_loss 62.62224347212855\n",
      "end of epoch 26 pre_epoch_loss 62.62224347212855 current_loss 61.024017346113226\n",
      "end of epoch 27 pre_epoch_loss 61.024017346113226 current_loss 59.41605919982771\n",
      "end of epoch 28 pre_epoch_loss 59.41605919982771 current_loss 57.35604302874567\n",
      "end of epoch 29 pre_epoch_loss 57.35604302874567 current_loss 55.51178814088044\n",
      "end of epoch 30 pre_epoch_loss 55.51178814088044 current_loss 53.9558013497907\n",
      "end of epoch 31 pre_epoch_loss 53.9558013497907 current_loss 52.511535311798355\n",
      "end of epoch 32 pre_epoch_loss 52.511535311798355 current_loss 50.90182224413088\n",
      "end of epoch 33 pre_epoch_loss 50.90182224413088 current_loss 49.50819212576717\n",
      "end of epoch 34 pre_epoch_loss 49.50819212576717 current_loss 47.93222727772591\n",
      "end of epoch 35 pre_epoch_loss 47.93222727772591 current_loss 46.47844645514469\n",
      "end of epoch 36 pre_epoch_loss 46.47844645514469 current_loss 45.28690776428776\n",
      "end of epoch 37 pre_epoch_loss 45.28690776428776 current_loss 43.95984676766158\n",
      "end of epoch 38 pre_epoch_loss 43.95984676766158 current_loss 42.94194093111894\n",
      "end of epoch 39 pre_epoch_loss 42.94194093111894 current_loss 42.40547843009425\n",
      "end of epoch 40 pre_epoch_loss 42.40547843009425 current_loss 41.845953833204085\n",
      "end of epoch 41 pre_epoch_loss 41.845953833204085 current_loss 41.421402112489496\n",
      "end of epoch 42 pre_epoch_loss 41.421402112489496 current_loss 41.05579315707061\n",
      "end of epoch 43 pre_epoch_loss 41.05579315707061 current_loss 40.712770048279054\n",
      "end of epoch 44 pre_epoch_loss 40.712770048279054 current_loss 40.423164123239665\n",
      "end of epoch 45 pre_epoch_loss 40.423164123239665 current_loss 40.10334022518572\n",
      "end of epoch 46 pre_epoch_loss 40.10334022518572 current_loss 39.823429619708676\n",
      "end of epoch 47 pre_epoch_loss 39.823429619708676 current_loss 39.53550984698837\n",
      "end of epoch 48 pre_epoch_loss 39.53550984698837 current_loss 39.23552009256322\n",
      "end of epoch 49 pre_epoch_loss 39.23552009256322 current_loss 38.947131396080856\n",
      "end of epoch 50 pre_epoch_loss 38.947131396080856 current_loss 38.67617888730771\n",
      "end of epoch 51 pre_epoch_loss 38.67617888730771 current_loss 38.401524564771975\n",
      "end of epoch 52 pre_epoch_loss 38.401524564771975 current_loss 38.14002041781507\n",
      "end of epoch 53 pre_epoch_loss 38.14002041781507 current_loss 37.89972114209701\n",
      "end of epoch 54 pre_epoch_loss 37.89972114209701 current_loss 37.66428401946695\n",
      "end of epoch 55 pre_epoch_loss 37.66428401946695 current_loss 37.45072658453057\n",
      "end of epoch 56 pre_epoch_loss 37.45072658453057 current_loss 37.16776570235373\n",
      "end of epoch 57 pre_epoch_loss 37.16776570235373 current_loss 36.91963351595626\n",
      "end of epoch 58 pre_epoch_loss 36.91963351595626 current_loss 36.715058710497296\n",
      "end of epoch 59 pre_epoch_loss 36.715058710497296 current_loss 36.5358044526698\n",
      "end of epoch 60 pre_epoch_loss 36.5358044526698 current_loss 36.27857615988354\n",
      "end of epoch 61 pre_epoch_loss 36.27857615988354 current_loss 36.091810373369206\n",
      "end of epoch 62 pre_epoch_loss 36.091810373369206 current_loss 35.8789486247106\n",
      "end of epoch 63 pre_epoch_loss 35.8789486247106 current_loss 35.66886842275568\n",
      "end of epoch 64 pre_epoch_loss 35.66886842275568 current_loss 35.50780571075626\n",
      "end of epoch 65 pre_epoch_loss 35.50780571075626 current_loss 35.318071972037984\n",
      "end of epoch 66 pre_epoch_loss 35.318071972037984 current_loss 35.12569443833801\n",
      "end of epoch 67 pre_epoch_loss 35.12569443833801 current_loss 34.939012282553165\n",
      "end of epoch 68 pre_epoch_loss 34.939012282553165 current_loss 34.76111945765972\n",
      "end of epoch 69 pre_epoch_loss 34.76111945765972 current_loss 34.58962866391859\n",
      "end of epoch 70 pre_epoch_loss 34.58962866391859 current_loss 34.4316092051603\n",
      "end of epoch 71 pre_epoch_loss 34.4316092051603 current_loss 34.28498287434544\n",
      "end of epoch 72 pre_epoch_loss 34.28498287434544 current_loss 34.144459994654845\n",
      "end of epoch 73 pre_epoch_loss 34.144459994654845 current_loss 33.99142537881665\n",
      "end of epoch 74 pre_epoch_loss 33.99142537881665 current_loss 33.89988983461789\n",
      "end of epoch 75 pre_epoch_loss 33.89988983461789 current_loss 33.78231599087445\n",
      "end of epoch 76 pre_epoch_loss 33.78231599087445 current_loss 33.65637431103302\n",
      "end of epoch 77 pre_epoch_loss 33.65637431103302 current_loss 33.55271005602791\n",
      "end of epoch 78 pre_epoch_loss 33.55271005602791 current_loss 33.46788916847273\n",
      "end of epoch 79 pre_epoch_loss 33.46788916847273 current_loss 33.3642135245802\n",
      "end of epoch 80 pre_epoch_loss 33.3642135245802 current_loss 33.26171998318666\n",
      "end of epoch 81 pre_epoch_loss 33.26171998318666 current_loss 33.14861793872352\n",
      "end of epoch 82 pre_epoch_loss 33.14861793872352 current_loss 33.08699351165756\n",
      "end of epoch 83 pre_epoch_loss 33.08699351165756 current_loss 33.02454188548496\n",
      "end of epoch 84 pre_epoch_loss 33.02454188548496 current_loss 32.97407287365352\n",
      "stopping early. current_loss is not much less than pre_epoch_loss\n",
      "[  5.2       -9.1        5.2      -10.4        5.2       -8.5      -18.2       -2.255462   0.74274  -16.7\n",
      "   5.2        0.52       5.2      -14.5        5.2      -11.5        5.2       -8.8        3.71293  -12.8\n",
      "   3.71293   -7.3        3.71293   -7.5        3.71293   -9.2        3.71293   -7.5        3.71293   -6.9\n",
      "   3.71293   -6.7     ]\n",
      "[ -9.4    -22.5     -9.4    -21.2     -8.9    -20.1     11.4244  11.4244   5.2    -17.8     -9.4      5.2     -9.7\n",
      " -20.      -9.8    -21.7    -10.1    -21.2     -7.1    -19.5     -7.1    -20.4     -7.1    -20.5     -7.1    -19.3\n",
      "  -7.1    -20.5     -7.     -18.5     -7.     -17.4   ]\n"
     ]
    },
    {
     "data": {
      "image/png": "[encoded data removed]",
      "text/plain": [
       "<Figure size 432x288 with 1 Axes>"
      ]
     },
     "metadata": {
      "needs_background": "light"
     },
     "output_type": "display_data"
    },
    {
     "name": "stdout",
     "output_type": "stream",
     "text": [
      "end of epoch 0 pre_epoch_loss 32.97407287365352 current_loss 31.805724795704204\n",
      "end of epoch 1 pre_epoch_loss 31.805724795704204 current_loss 31.103766618432417\n",
      "end of epoch 2 pre_epoch_loss 31.103766618432417 current_loss 30.4427583012845\n",
      "end of epoch 3 pre_epoch_loss 30.4427583012845 current_loss 29.80463295107303\n",
      "end of epoch 4 pre_epoch_loss 29.80463295107303 current_loss 29.187588473429045\n",
      "end of epoch 5 pre_epoch_loss 29.187588473429045 current_loss 28.64632409236431\n",
      "end of epoch 6 pre_epoch_loss 28.64632409236431 current_loss 28.09370602416385\n",
      "end of epoch 7 pre_epoch_loss 28.09370602416385 current_loss 27.58614993937707\n",
      "end of epoch 8 pre_epoch_loss 27.58614993937707 current_loss 27.09221160838815\n",
      "end of epoch 9 pre_epoch_loss 27.09221160838815 current_loss 26.635642904260237\n",
      "end of epoch 10 pre_epoch_loss 26.635642904260237 current_loss 26.20595947408646\n",
      "end of epoch 11 pre_epoch_loss 26.20595947408646 current_loss 25.800972655696633\n",
      "end of epoch 12 pre_epoch_loss 25.800972655696633 current_loss 25.41827720665376\n",
      "end of epoch 13 pre_epoch_loss 25.41827720665376 current_loss 25.000488274166855\n",
      "end of epoch 14 pre_epoch_loss 25.000488274166855 current_loss 24.63263307222315\n",
      "end of epoch 15 pre_epoch_loss 24.63263307222315 current_loss 24.291079658331228\n",
      "end of epoch 16 pre_epoch_loss 24.291079658331228 current_loss 23.931877753709564\n",
      "end of epoch 17 pre_epoch_loss 23.931877753709564 current_loss 23.615485753166176\n",
      "end of epoch 18 pre_epoch_loss 23.615485753166176 current_loss 23.314370640015884\n",
      "end of epoch 19 pre_epoch_loss 23.314370640015884 current_loss 22.99932272627905\n",
      "end of epoch 20 pre_epoch_loss 22.99932272627905 current_loss 22.721294906770886\n",
      "end of epoch 21 pre_epoch_loss 22.721294906770886 current_loss 22.62798044029408\n",
      "end of epoch 22 pre_epoch_loss 22.62798044029408 current_loss 22.53524234414244\n",
      "end of epoch 23 pre_epoch_loss 22.53524234414244 current_loss 22.445618310898816\n",
      "end of epoch 24 pre_epoch_loss 22.445618310898816 current_loss 22.361729131867442\n",
      "end of epoch 25 pre_epoch_loss 22.361729131867442 current_loss 22.279770771281957\n",
      "end of epoch 26 pre_epoch_loss 22.279770771281957 current_loss 22.19926163226915\n",
      "end of epoch 27 pre_epoch_loss 22.19926163226915 current_loss 22.12165038075303\n",
      "end of epoch 28 pre_epoch_loss 22.12165038075303 current_loss 22.045556623404483\n",
      "end of epoch 29 pre_epoch_loss 22.045556623404483 current_loss 21.970608364088662\n",
      "end of epoch 30 pre_epoch_loss 21.970608364088662 current_loss 21.875658640848997\n",
      "end of epoch 31 pre_epoch_loss 21.875658640848997 current_loss 21.801644932008273\n",
      "end of epoch 32 pre_epoch_loss 21.801644932008273 current_loss 21.73008056342536\n",
      "end of epoch 33 pre_epoch_loss 21.73008056342536 current_loss 21.657772446449357\n",
      "end of epoch 34 pre_epoch_loss 21.657772446449357 current_loss 21.587378483895584\n",
      "end of epoch 35 pre_epoch_loss 21.587378483895584 current_loss 21.520242773116458\n",
      "end of epoch 36 pre_epoch_loss 21.520242773116458 current_loss 21.4296604039163\n",
      "end of epoch 37 pre_epoch_loss 21.4296604039163 current_loss 21.35811111537996\n",
      "end of epoch 38 pre_epoch_loss 21.35811111537996 current_loss 21.289980673046255\n",
      "end of epoch 39 pre_epoch_loss 21.289980673046255 current_loss 21.215578534747774\n",
      "end of epoch 40 pre_epoch_loss 21.215578534747774 current_loss 21.142055271570463\n",
      "end of epoch 41 pre_epoch_loss 21.142055271570463 current_loss 21.07628431747702\n",
      "end of epoch 42 pre_epoch_loss 21.07628431747702 current_loss 20.98464097108782\n",
      "end of epoch 43 pre_epoch_loss 20.98464097108782 current_loss 20.913983261066882\n",
      "end of epoch 44 pre_epoch_loss 20.913983261066882 current_loss 20.846085016530967\n",
      "end of epoch 45 pre_epoch_loss 20.846085016530967 current_loss 20.756637899816926\n",
      "end of epoch 46 pre_epoch_loss 20.756637899816926 current_loss 20.689073025689893\n",
      "end of epoch 47 pre_epoch_loss 20.689073025689893 current_loss 20.624229392357687\n",
      "end of epoch 48 pre_epoch_loss 20.624229392357687 current_loss 20.558770744871605\n",
      "end of epoch 49 pre_epoch_loss 20.558770744871605 current_loss 20.486638937290873\n",
      "end of epoch 50 pre_epoch_loss 20.486638937290873 current_loss 20.415511126567367\n",
      "end of epoch 51 pre_epoch_loss 20.415511126567367 current_loss 20.34588734395554\n",
      "end of epoch 52 pre_epoch_loss 20.34588734395554 current_loss 20.274036583386927\n",
      "end of epoch 53 pre_epoch_loss 20.274036583386927 current_loss 20.21038101477476\n",
      "end of epoch 54 pre_epoch_loss 20.21038101477476 current_loss 20.142054677224024\n",
      "end of epoch 55 pre_epoch_loss 20.142054677224024 current_loss 20.072012361465724\n",
      "end of epoch 56 pre_epoch_loss 20.072012361465724 current_loss 20.01001104415614\n",
      "end of epoch 57 pre_epoch_loss 20.01001104415614 current_loss 19.94245191037486\n",
      "end of epoch 58 pre_epoch_loss 19.94245191037486 current_loss 19.871450078848447\n",
      "end of epoch 59 pre_epoch_loss 19.871450078848447 current_loss 19.809242368562717\n",
      "end of epoch 60 pre_epoch_loss 19.809242368562717 current_loss 19.739172868943122\n",
      "end of epoch 61 pre_epoch_loss 19.739172868943122 current_loss 19.67747290341772\n",
      "end of epoch 62 pre_epoch_loss 19.67747290341772 current_loss 19.59521269433756\n",
      "end of epoch 63 pre_epoch_loss 19.59521269433756 current_loss 19.527044347335693\n",
      "end of epoch 64 pre_epoch_loss 19.527044347335693 current_loss 19.45947058430858\n",
      "end of epoch 65 pre_epoch_loss 19.45947058430858 current_loss 19.390421578177843\n",
      "end of epoch 66 pre_epoch_loss 19.390421578177843 current_loss 19.32528038350675\n",
      "end of epoch 67 pre_epoch_loss 19.32528038350675 current_loss 19.255836482141657\n",
      "end of epoch 68 pre_epoch_loss 19.255836482141657 current_loss 19.195064897281892\n",
      "end of epoch 69 pre_epoch_loss 19.195064897281892 current_loss 19.128618486832814\n",
      "end of epoch 70 pre_epoch_loss 19.128618486832814 current_loss 19.061708149452105\n",
      "end of epoch 71 pre_epoch_loss 19.061708149452105 current_loss 18.99608648919087\n",
      "end of epoch 72 pre_epoch_loss 18.99608648919087 current_loss 18.92909473647371\n",
      "end of epoch 73 pre_epoch_loss 18.92909473647371 current_loss 18.861538761058597\n",
      "end of epoch 74 pre_epoch_loss 18.861538761058597 current_loss 18.802201233506853\n",
      "end of epoch 75 pre_epoch_loss 18.802201233506853 current_loss 18.734894731089945\n",
      "end of epoch 76 pre_epoch_loss 18.734894731089945 current_loss 18.66915645349618\n",
      "end of epoch 77 pre_epoch_loss 18.66915645349618 current_loss 18.603584371550085\n",
      "end of epoch 78 pre_epoch_loss 18.603584371550085 current_loss 18.542164336992656\n",
      "end of epoch 79 pre_epoch_loss 18.542164336992656 current_loss 18.477171754063466\n",
      "end of epoch 80 pre_epoch_loss 18.477171754063466 current_loss 18.415910372628254\n",
      "end of epoch 81 pre_epoch_loss 18.415910372628254 current_loss 18.349991307758405\n",
      "end of epoch 82 pre_epoch_loss 18.349991307758405 current_loss 18.292839706779663\n",
      "end of epoch 83 pre_epoch_loss 18.292839706779663 current_loss 18.22575773784434\n",
      "end of epoch 84 pre_epoch_loss 18.22575773784434 current_loss 18.164690545719175\n",
      "end of epoch 85 pre_epoch_loss 18.164690545719175 current_loss 18.100051588109572\n",
      "end of epoch 86 pre_epoch_loss 18.100051588109572 current_loss 18.04048541182228\n",
      "end of epoch 87 pre_epoch_loss 18.04048541182228 current_loss 17.97614116235437\n",
      "end of epoch 88 pre_epoch_loss 17.97614116235437 current_loss 17.920454903371553\n",
      "end of epoch 89 pre_epoch_loss 17.920454903371553 current_loss 17.855390563447088\n",
      "end of epoch 90 pre_epoch_loss 17.855390563447088 current_loss 17.79468769646876\n",
      "end of epoch 91 pre_epoch_loss 17.79468769646876 current_loss 17.73120571728671\n",
      "end of epoch 92 pre_epoch_loss 17.73120571728671 current_loss 17.67367436958717\n",
      "end of epoch 93 pre_epoch_loss 17.67367436958717 current_loss 17.609851350708112\n",
      "end of epoch 94 pre_epoch_loss 17.609851350708112 current_loss 17.55184270115358\n",
      "end of epoch 95 pre_epoch_loss 17.55184270115358 current_loss 17.4892236206757\n",
      "end of epoch 96 pre_epoch_loss 17.4892236206757 current_loss 17.434800368205988\n",
      "end of epoch 97 pre_epoch_loss 17.434800368205988 current_loss 17.367074436699042\n",
      "end of epoch 98 pre_epoch_loss 17.367074436699042 current_loss 17.310320097318975\n",
      "end of epoch 99 pre_epoch_loss 17.310320097318975 current_loss 17.25203332728394\n",
      "[  5.356     -9.57       5.51668  -10.98       6.209072  -9.       -18.92      -2.695462   1.499    -17.49\n",
      "   7.413957   0.493173   5.68218  -14.87       5.034925 -11.57       5.2       -8.41       3.928422 -12.93\n",
      "   3.935502  -7.63       4.049919  -7.67       4.989867  -9.35       4.160164  -7.67       4.049919  -7.35\n",
      "   3.939047  -6.86    ]\n",
      "[-10.4      -23.5      -10.4      -22.18      -9.9      -21.1       21.252749  20.633737   7.851315 -17.41\n",
      " -10.4        6.203484 -10.7      -20.37     -10.8      -22.54     -11.1      -22.2       -8.1      -20.26\n",
      "  -8.1      -21.4       -8.1      -21.5       -8.1      -20.28      -8.1      -21.5       -8.       -19.5\n",
      "  -8.       -18.4     ]\n"
     ]
    },
    {
     "data": {
      "image/png": "[encoded data removed]",
      "text/plain": [
       "<Figure size 432x288 with 1 Axes>"
      ]
     },
     "metadata": {
      "needs_background": "light"
     },
     "output_type": "display_data"
    }
   ],
   "source": [
    "# create a new learner \n",
    "basic_learner = BasicLearner(train_df, number_of_weights=32)\n",
    "# and do 3 rounds of learning\n",
    "for i in range(3):\n",
    "    # use a lower learning rate for later rounds\n",
    "    basic_learner.learn(100, 3 / 10**i)\n",
    "    # print the weights and biases that have been learned\n",
    "    print(basic_learner.weights)\n",
    "    print(basic_learner.biases)\n",
    "    # plot target values against predicted at the end of each round\n",
    "    predicted = basic_learner.predict()\n",
    "    plt.plot(train_df['x'], train_df['y'])\n",
    "    plt.plot(train_df['x'], predicted)\n",
    "    plt.show()"
   ]
  },
  {
   "cell_type": "code",
   "execution_count": null,
   "metadata": {},
   "outputs": [],
   "source": [
    "# show the predicted curve on it's own\n",
    "plt.plot(train_df['x'], predicted)\n",
    "plt.show()"
   ]
  }
 ],
 "metadata": {
  "kernelspec": {
   "display_name": "Python 3",
   "language": "python",
   "name": "python3"
  },
  "language_info": {
   "codemirror_mode": {
    "name": "ipython",
    "version": 3
   },
   "file_extension": ".py",
   "mimetype": "text/x-python",
   "name": "python",
   "nbconvert_exporter": "python",
   "pygments_lexer": "ipython3",
   "version": "3.7.3"
  }
 },
 "nbformat": 4,
 "nbformat_minor": 2
}
